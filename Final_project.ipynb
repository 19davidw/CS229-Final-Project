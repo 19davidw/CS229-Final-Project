{
  "nbformat": 4,
  "nbformat_minor": 0,
  "metadata": {
    "colab": {
      "name": "Final project.ipynb",
      "provenance": [],
      "collapsed_sections": [],
      "mount_file_id": "1zpyI7vKoxRGv9mohGbtlzoZY6qxHVZTR",
      "authorship_tag": "ABX9TyOItux/U08k4Onr9OX6zJQW"
    },
    "kernelspec": {
      "name": "python3",
      "display_name": "Python 3"
    },
    "language_info": {
      "name": "python"
    }
  },
  "cells": [
    {
      "cell_type": "code",
      "execution_count": 2,
      "metadata": {
        "colab": {
          "base_uri": "https://localhost:8080/"
        },
        "id": "SeT0gE1QgEuz",
        "outputId": "603309e2-ce5a-4a3a-8163-20b6fa7752ae"
      },
      "outputs": [
        {
          "output_type": "stream",
          "name": "stdout",
          "text": [
            "/content/drive/MyDrive/Colab Notebooks/CS229 Final\n",
            " Confusion_matrix_DT.png           KNN_test_data.npy\n",
            " Confusion_matrix_kNN.png          KNN_train_data.npy\n",
            " Confusion_matrix_logreg.png       KNN_unnormalized_only_ordinal.npy\n",
            " Confusion_matrix_nn.png           logregvsknnconfusion.png\n",
            " Confusion_matrix_RF.png           model1.sav\n",
            " \u001b[0m\u001b[01;34mData\u001b[0m/                             model2_earlystop.sav\n",
            " figure1.png                       model3_earlystop.sav\n",
            "'Final project.ipynb'              model4_earlystop.sav\n",
            " kmeans_normalzied.png             processed_data.npy\n",
            " kmeans_unnormalzied.png           train_and_test_acc_dectree.png\n",
            " KNN_normalized_full_pca.npy       train_and_test_acc_dectree_zoom.png\n",
            " KNN_normalized_full_pca.png       train_and_test_acc_randforest.png\n",
            " KNN_normalized_only_ordinal.npy   train_and_test_acc_randforest_wider.png\n"
          ]
        }
      ],
      "source": [
        "FOLDERNAME = \"/content/drive/MyDrive/Colab Notebooks/CS229 Final/\"\n",
        "%cd $FOLDERNAME\n",
        "\n",
        "import numpy as np\n",
        "import pandas as pd\n",
        "from google.colab import data_table\n",
        "data_table.enable_dataframe_formatter\n",
        "from matplotlib import pyplot as plt\n",
        "from collections import defaultdict\n",
        "from sklearn.neighbors import KNeighborsClassifier\n"
      ]
    },
    {
      "cell_type": "code",
      "source": [
        "full_dataset = pd.read_csv(\"./Data/Diabetes_Data_1999_2008.csv\")\n",
        "FULL_DATASET_SIZE = full_dataset.size\n",
        "# full_dataset\n",
        "# print(full_dataset)\n",
        "def get_possible_values(dataset_arg, verbose=True):\n",
        "  possible_values = {}\n",
        "  for column_name, column_data in dataset_arg.iteritems():\n",
        "    possible_values[column_name] = set(column_data)\n",
        "    # print(column_name)\n",
        "  if (verbose):\n",
        "    print(dataset_arg.columns)\n",
        "    for key in possible_values:\n",
        "      if(key == 'encounter_id' or key == 'patient_nbr'): continue\n",
        "      print(str(key) + \": \" + str(possible_values[key]))\n",
        "  return possible_values\n",
        "possible_values = get_possible_values(full_dataset, False)"
      ],
      "metadata": {
        "id": "wRG-Ow8smdHL"
      },
      "execution_count": 5,
      "outputs": []
    },
    {
      "cell_type": "markdown",
      "source": [
        "A quick inspection of the shows that most of these columns cannot be represented with simple binary features, in fact even readmission cannot be represented as binary because we must differentiated betwen no readmission, readmission after 30 days, and readmission within 30 days. However, there is no way to transform these into a label encoding without imposing unnecessary relations on the features. For instance, for the outputs, we could naively assign 'NO' to 0, '< 30' to 1, and '> 30' to 2. However, this implies spurious facts like the average of 'NO' and '> 30' is '< 30', or that '> 30' is twice '< 30'. Although in this case the hierachy of the numbers may be welcome, it is better to let our model to learning this on its own. A more obvious examples are the various diagnoses, while these have numbers assigned, they are assigned according to the ICD 9 standard, and again the actual numbers mean less than the actual identity of the diagnosis. For these it will be necessary to use a onehot encoding, despite the huge dimensionality this would involve. To reduce the dimensionality, we will run PCA. \n",
        "\n",
        "We also notice that some of the columns only contain one possible value, we can simply drop these columns as they provide no usable information.\n",
        "\n",
        "Lastly, notice that this dataset includes some '?' values, where the value is unknown. For these we will eventually use latent variable models to handle, for now we will simply ignore them whenever they appear in both the training and testing datasets. For the categories that contain more than 50% missing values, we will omit these columns entirely from our model, but for the caegories that are only missing a small percentage of values we will ignore the specific data points."
      ],
      "metadata": {
        "id": "7gJ2mTr8nXOr"
      }
    },
    {
      "cell_type": "code",
      "source": [
        "print(len(full_dataset))\n",
        "#turn all missing values into NaNs\n",
        "full_dataset.replace('?', np.NaN, inplace = True)\n",
        "full_dataset.replace('Unknown/Invalid', np.NaN, inplace = True)\n",
        "#remove the variables that provide no information\n",
        "full_dataset_latent = full_dataset.drop(['citoglipton', 'examide', 'encounter_id', 'patient_nbr'], axis = 1)\n",
        "#remove the variables that contain > 50% missing values\n",
        "full_dataset = full_dataset_latent.drop(['weight', 'payer_code', 'medical_specialty'], axis = 1)\n",
        "#remove the data entries which have more than one missing values\n",
        "full_dataset.dropna(axis=0, inplace=True)\n",
        "#reformat age values into numbers\n",
        "for i in range(11):\n",
        "  full_dataset['age'].replace('[' + str(10*i) + '-'+str(10*(i+1)) + ')', i + .5, inplace=True)\n",
        "  full_dataset_latent['age'].replace('[' + str(10*i) + '-'+str(10*(i+1)) + ')', i + .5, inplace = True)\n",
        "pd.to_numeric(full_dataset['age'])\n",
        "pd.to_numeric(full_dataset_latent['age'])\n",
        "full_dataset"
      ],
      "metadata": {
        "id": "CwrS-BPAgtI0",
        "colab": {
          "base_uri": "https://localhost:8080/",
          "height": 522
        },
        "outputId": "96557517-6a5e-4e87-e4e8-c030a5064024"
      },
      "execution_count": 6,
      "outputs": [
        {
          "output_type": "stream",
          "name": "stdout",
          "text": [
            "101766\n"
          ]
        },
        {
          "output_type": "execute_result",
          "data": {
            "text/plain": [
              "                   race  gender  age  admission_type_id  \\\n",
              "1             Caucasian  Female  1.5                  1   \n",
              "2       AfricanAmerican  Female  2.5                  1   \n",
              "3             Caucasian    Male  3.5                  1   \n",
              "4             Caucasian    Male  4.5                  1   \n",
              "5             Caucasian    Male  5.5                  2   \n",
              "...                 ...     ...  ...                ...   \n",
              "101761  AfricanAmerican    Male  7.5                  1   \n",
              "101762  AfricanAmerican  Female  8.5                  1   \n",
              "101763        Caucasian    Male  7.5                  1   \n",
              "101764        Caucasian  Female  8.5                  2   \n",
              "101765        Caucasian    Male  7.5                  1   \n",
              "\n",
              "        discharge_disposition_id  admission_source_id  time_in_hospital  \\\n",
              "1                              1                    7                 3   \n",
              "2                              1                    7                 2   \n",
              "3                              1                    7                 2   \n",
              "4                              1                    7                 1   \n",
              "5                              1                    2                 3   \n",
              "...                          ...                  ...               ...   \n",
              "101761                         3                    7                 3   \n",
              "101762                         4                    5                 5   \n",
              "101763                         1                    7                 1   \n",
              "101764                         3                    7                10   \n",
              "101765                         1                    7                 6   \n",
              "\n",
              "        num_lab_procedures  num_procedures  num_medications  ...  tolazamide  \\\n",
              "1                       59               0               18  ...          No   \n",
              "2                       11               5               13  ...          No   \n",
              "3                       44               1               16  ...          No   \n",
              "4                       51               0                8  ...          No   \n",
              "5                       31               6               16  ...          No   \n",
              "...                    ...             ...              ...  ...         ...   \n",
              "101761                  51               0               16  ...          No   \n",
              "101762                  33               3               18  ...          No   \n",
              "101763                  53               0                9  ...          No   \n",
              "101764                  45               2               21  ...          No   \n",
              "101765                  13               3                3  ...          No   \n",
              "\n",
              "        insulin  glyburide-metformin glipizide-metformin  \\\n",
              "1            Up                   No                  No   \n",
              "2            No                   No                  No   \n",
              "3            Up                   No                  No   \n",
              "4        Steady                   No                  No   \n",
              "5        Steady                   No                  No   \n",
              "...         ...                  ...                 ...   \n",
              "101761     Down                   No                  No   \n",
              "101762   Steady                   No                  No   \n",
              "101763     Down                   No                  No   \n",
              "101764       Up                   No                  No   \n",
              "101765       No                   No                  No   \n",
              "\n",
              "       glimepiride-pioglitazone metformin-rosiglitazone  \\\n",
              "1                            No                      No   \n",
              "2                            No                      No   \n",
              "3                            No                      No   \n",
              "4                            No                      No   \n",
              "5                            No                      No   \n",
              "...                         ...                     ...   \n",
              "101761                       No                      No   \n",
              "101762                       No                      No   \n",
              "101763                       No                      No   \n",
              "101764                       No                      No   \n",
              "101765                       No                      No   \n",
              "\n",
              "        metformin-pioglitazone change diabetesMed readmitted  \n",
              "1                           No     Ch         Yes        >30  \n",
              "2                           No     No         Yes         NO  \n",
              "3                           No     Ch         Yes         NO  \n",
              "4                           No     Ch         Yes         NO  \n",
              "5                           No     No         Yes        >30  \n",
              "...                        ...    ...         ...        ...  \n",
              "101761                      No     Ch         Yes        >30  \n",
              "101762                      No     No         Yes         NO  \n",
              "101763                      No     Ch         Yes         NO  \n",
              "101764                      No     Ch         Yes         NO  \n",
              "101765                      No     No          No         NO  \n",
              "\n",
              "[98052 rows x 43 columns]"
            ],
            "text/html": [
              "\n",
              "  <div id=\"df-9a8f3dd4-9853-4347-953a-e0d3dcfce79a\">\n",
              "    <div class=\"colab-df-container\">\n",
              "      <div>\n",
              "<style scoped>\n",
              "    .dataframe tbody tr th:only-of-type {\n",
              "        vertical-align: middle;\n",
              "    }\n",
              "\n",
              "    .dataframe tbody tr th {\n",
              "        vertical-align: top;\n",
              "    }\n",
              "\n",
              "    .dataframe thead th {\n",
              "        text-align: right;\n",
              "    }\n",
              "</style>\n",
              "<table border=\"1\" class=\"dataframe\">\n",
              "  <thead>\n",
              "    <tr style=\"text-align: right;\">\n",
              "      <th></th>\n",
              "      <th>race</th>\n",
              "      <th>gender</th>\n",
              "      <th>age</th>\n",
              "      <th>admission_type_id</th>\n",
              "      <th>discharge_disposition_id</th>\n",
              "      <th>admission_source_id</th>\n",
              "      <th>time_in_hospital</th>\n",
              "      <th>num_lab_procedures</th>\n",
              "      <th>num_procedures</th>\n",
              "      <th>num_medications</th>\n",
              "      <th>...</th>\n",
              "      <th>tolazamide</th>\n",
              "      <th>insulin</th>\n",
              "      <th>glyburide-metformin</th>\n",
              "      <th>glipizide-metformin</th>\n",
              "      <th>glimepiride-pioglitazone</th>\n",
              "      <th>metformin-rosiglitazone</th>\n",
              "      <th>metformin-pioglitazone</th>\n",
              "      <th>change</th>\n",
              "      <th>diabetesMed</th>\n",
              "      <th>readmitted</th>\n",
              "    </tr>\n",
              "  </thead>\n",
              "  <tbody>\n",
              "    <tr>\n",
              "      <th>1</th>\n",
              "      <td>Caucasian</td>\n",
              "      <td>Female</td>\n",
              "      <td>1.5</td>\n",
              "      <td>1</td>\n",
              "      <td>1</td>\n",
              "      <td>7</td>\n",
              "      <td>3</td>\n",
              "      <td>59</td>\n",
              "      <td>0</td>\n",
              "      <td>18</td>\n",
              "      <td>...</td>\n",
              "      <td>No</td>\n",
              "      <td>Up</td>\n",
              "      <td>No</td>\n",
              "      <td>No</td>\n",
              "      <td>No</td>\n",
              "      <td>No</td>\n",
              "      <td>No</td>\n",
              "      <td>Ch</td>\n",
              "      <td>Yes</td>\n",
              "      <td>&gt;30</td>\n",
              "    </tr>\n",
              "    <tr>\n",
              "      <th>2</th>\n",
              "      <td>AfricanAmerican</td>\n",
              "      <td>Female</td>\n",
              "      <td>2.5</td>\n",
              "      <td>1</td>\n",
              "      <td>1</td>\n",
              "      <td>7</td>\n",
              "      <td>2</td>\n",
              "      <td>11</td>\n",
              "      <td>5</td>\n",
              "      <td>13</td>\n",
              "      <td>...</td>\n",
              "      <td>No</td>\n",
              "      <td>No</td>\n",
              "      <td>No</td>\n",
              "      <td>No</td>\n",
              "      <td>No</td>\n",
              "      <td>No</td>\n",
              "      <td>No</td>\n",
              "      <td>No</td>\n",
              "      <td>Yes</td>\n",
              "      <td>NO</td>\n",
              "    </tr>\n",
              "    <tr>\n",
              "      <th>3</th>\n",
              "      <td>Caucasian</td>\n",
              "      <td>Male</td>\n",
              "      <td>3.5</td>\n",
              "      <td>1</td>\n",
              "      <td>1</td>\n",
              "      <td>7</td>\n",
              "      <td>2</td>\n",
              "      <td>44</td>\n",
              "      <td>1</td>\n",
              "      <td>16</td>\n",
              "      <td>...</td>\n",
              "      <td>No</td>\n",
              "      <td>Up</td>\n",
              "      <td>No</td>\n",
              "      <td>No</td>\n",
              "      <td>No</td>\n",
              "      <td>No</td>\n",
              "      <td>No</td>\n",
              "      <td>Ch</td>\n",
              "      <td>Yes</td>\n",
              "      <td>NO</td>\n",
              "    </tr>\n",
              "    <tr>\n",
              "      <th>4</th>\n",
              "      <td>Caucasian</td>\n",
              "      <td>Male</td>\n",
              "      <td>4.5</td>\n",
              "      <td>1</td>\n",
              "      <td>1</td>\n",
              "      <td>7</td>\n",
              "      <td>1</td>\n",
              "      <td>51</td>\n",
              "      <td>0</td>\n",
              "      <td>8</td>\n",
              "      <td>...</td>\n",
              "      <td>No</td>\n",
              "      <td>Steady</td>\n",
              "      <td>No</td>\n",
              "      <td>No</td>\n",
              "      <td>No</td>\n",
              "      <td>No</td>\n",
              "      <td>No</td>\n",
              "      <td>Ch</td>\n",
              "      <td>Yes</td>\n",
              "      <td>NO</td>\n",
              "    </tr>\n",
              "    <tr>\n",
              "      <th>5</th>\n",
              "      <td>Caucasian</td>\n",
              "      <td>Male</td>\n",
              "      <td>5.5</td>\n",
              "      <td>2</td>\n",
              "      <td>1</td>\n",
              "      <td>2</td>\n",
              "      <td>3</td>\n",
              "      <td>31</td>\n",
              "      <td>6</td>\n",
              "      <td>16</td>\n",
              "      <td>...</td>\n",
              "      <td>No</td>\n",
              "      <td>Steady</td>\n",
              "      <td>No</td>\n",
              "      <td>No</td>\n",
              "      <td>No</td>\n",
              "      <td>No</td>\n",
              "      <td>No</td>\n",
              "      <td>No</td>\n",
              "      <td>Yes</td>\n",
              "      <td>&gt;30</td>\n",
              "    </tr>\n",
              "    <tr>\n",
              "      <th>...</th>\n",
              "      <td>...</td>\n",
              "      <td>...</td>\n",
              "      <td>...</td>\n",
              "      <td>...</td>\n",
              "      <td>...</td>\n",
              "      <td>...</td>\n",
              "      <td>...</td>\n",
              "      <td>...</td>\n",
              "      <td>...</td>\n",
              "      <td>...</td>\n",
              "      <td>...</td>\n",
              "      <td>...</td>\n",
              "      <td>...</td>\n",
              "      <td>...</td>\n",
              "      <td>...</td>\n",
              "      <td>...</td>\n",
              "      <td>...</td>\n",
              "      <td>...</td>\n",
              "      <td>...</td>\n",
              "      <td>...</td>\n",
              "      <td>...</td>\n",
              "    </tr>\n",
              "    <tr>\n",
              "      <th>101761</th>\n",
              "      <td>AfricanAmerican</td>\n",
              "      <td>Male</td>\n",
              "      <td>7.5</td>\n",
              "      <td>1</td>\n",
              "      <td>3</td>\n",
              "      <td>7</td>\n",
              "      <td>3</td>\n",
              "      <td>51</td>\n",
              "      <td>0</td>\n",
              "      <td>16</td>\n",
              "      <td>...</td>\n",
              "      <td>No</td>\n",
              "      <td>Down</td>\n",
              "      <td>No</td>\n",
              "      <td>No</td>\n",
              "      <td>No</td>\n",
              "      <td>No</td>\n",
              "      <td>No</td>\n",
              "      <td>Ch</td>\n",
              "      <td>Yes</td>\n",
              "      <td>&gt;30</td>\n",
              "    </tr>\n",
              "    <tr>\n",
              "      <th>101762</th>\n",
              "      <td>AfricanAmerican</td>\n",
              "      <td>Female</td>\n",
              "      <td>8.5</td>\n",
              "      <td>1</td>\n",
              "      <td>4</td>\n",
              "      <td>5</td>\n",
              "      <td>5</td>\n",
              "      <td>33</td>\n",
              "      <td>3</td>\n",
              "      <td>18</td>\n",
              "      <td>...</td>\n",
              "      <td>No</td>\n",
              "      <td>Steady</td>\n",
              "      <td>No</td>\n",
              "      <td>No</td>\n",
              "      <td>No</td>\n",
              "      <td>No</td>\n",
              "      <td>No</td>\n",
              "      <td>No</td>\n",
              "      <td>Yes</td>\n",
              "      <td>NO</td>\n",
              "    </tr>\n",
              "    <tr>\n",
              "      <th>101763</th>\n",
              "      <td>Caucasian</td>\n",
              "      <td>Male</td>\n",
              "      <td>7.5</td>\n",
              "      <td>1</td>\n",
              "      <td>1</td>\n",
              "      <td>7</td>\n",
              "      <td>1</td>\n",
              "      <td>53</td>\n",
              "      <td>0</td>\n",
              "      <td>9</td>\n",
              "      <td>...</td>\n",
              "      <td>No</td>\n",
              "      <td>Down</td>\n",
              "      <td>No</td>\n",
              "      <td>No</td>\n",
              "      <td>No</td>\n",
              "      <td>No</td>\n",
              "      <td>No</td>\n",
              "      <td>Ch</td>\n",
              "      <td>Yes</td>\n",
              "      <td>NO</td>\n",
              "    </tr>\n",
              "    <tr>\n",
              "      <th>101764</th>\n",
              "      <td>Caucasian</td>\n",
              "      <td>Female</td>\n",
              "      <td>8.5</td>\n",
              "      <td>2</td>\n",
              "      <td>3</td>\n",
              "      <td>7</td>\n",
              "      <td>10</td>\n",
              "      <td>45</td>\n",
              "      <td>2</td>\n",
              "      <td>21</td>\n",
              "      <td>...</td>\n",
              "      <td>No</td>\n",
              "      <td>Up</td>\n",
              "      <td>No</td>\n",
              "      <td>No</td>\n",
              "      <td>No</td>\n",
              "      <td>No</td>\n",
              "      <td>No</td>\n",
              "      <td>Ch</td>\n",
              "      <td>Yes</td>\n",
              "      <td>NO</td>\n",
              "    </tr>\n",
              "    <tr>\n",
              "      <th>101765</th>\n",
              "      <td>Caucasian</td>\n",
              "      <td>Male</td>\n",
              "      <td>7.5</td>\n",
              "      <td>1</td>\n",
              "      <td>1</td>\n",
              "      <td>7</td>\n",
              "      <td>6</td>\n",
              "      <td>13</td>\n",
              "      <td>3</td>\n",
              "      <td>3</td>\n",
              "      <td>...</td>\n",
              "      <td>No</td>\n",
              "      <td>No</td>\n",
              "      <td>No</td>\n",
              "      <td>No</td>\n",
              "      <td>No</td>\n",
              "      <td>No</td>\n",
              "      <td>No</td>\n",
              "      <td>No</td>\n",
              "      <td>No</td>\n",
              "      <td>NO</td>\n",
              "    </tr>\n",
              "  </tbody>\n",
              "</table>\n",
              "<p>98052 rows × 43 columns</p>\n",
              "</div>\n",
              "      <button class=\"colab-df-convert\" onclick=\"convertToInteractive('df-9a8f3dd4-9853-4347-953a-e0d3dcfce79a')\"\n",
              "              title=\"Convert this dataframe to an interactive table.\"\n",
              "              style=\"display:none;\">\n",
              "        \n",
              "  <svg xmlns=\"http://www.w3.org/2000/svg\" height=\"24px\"viewBox=\"0 0 24 24\"\n",
              "       width=\"24px\">\n",
              "    <path d=\"M0 0h24v24H0V0z\" fill=\"none\"/>\n",
              "    <path d=\"M18.56 5.44l.94 2.06.94-2.06 2.06-.94-2.06-.94-.94-2.06-.94 2.06-2.06.94zm-11 1L8.5 8.5l.94-2.06 2.06-.94-2.06-.94L8.5 2.5l-.94 2.06-2.06.94zm10 10l.94 2.06.94-2.06 2.06-.94-2.06-.94-.94-2.06-.94 2.06-2.06.94z\"/><path d=\"M17.41 7.96l-1.37-1.37c-.4-.4-.92-.59-1.43-.59-.52 0-1.04.2-1.43.59L10.3 9.45l-7.72 7.72c-.78.78-.78 2.05 0 2.83L4 21.41c.39.39.9.59 1.41.59.51 0 1.02-.2 1.41-.59l7.78-7.78 2.81-2.81c.8-.78.8-2.07 0-2.86zM5.41 20L4 18.59l7.72-7.72 1.47 1.35L5.41 20z\"/>\n",
              "  </svg>\n",
              "      </button>\n",
              "      \n",
              "  <style>\n",
              "    .colab-df-container {\n",
              "      display:flex;\n",
              "      flex-wrap:wrap;\n",
              "      gap: 12px;\n",
              "    }\n",
              "\n",
              "    .colab-df-convert {\n",
              "      background-color: #E8F0FE;\n",
              "      border: none;\n",
              "      border-radius: 50%;\n",
              "      cursor: pointer;\n",
              "      display: none;\n",
              "      fill: #1967D2;\n",
              "      height: 32px;\n",
              "      padding: 0 0 0 0;\n",
              "      width: 32px;\n",
              "    }\n",
              "\n",
              "    .colab-df-convert:hover {\n",
              "      background-color: #E2EBFA;\n",
              "      box-shadow: 0px 1px 2px rgba(60, 64, 67, 0.3), 0px 1px 3px 1px rgba(60, 64, 67, 0.15);\n",
              "      fill: #174EA6;\n",
              "    }\n",
              "\n",
              "    [theme=dark] .colab-df-convert {\n",
              "      background-color: #3B4455;\n",
              "      fill: #D2E3FC;\n",
              "    }\n",
              "\n",
              "    [theme=dark] .colab-df-convert:hover {\n",
              "      background-color: #434B5C;\n",
              "      box-shadow: 0px 1px 3px 1px rgba(0, 0, 0, 0.15);\n",
              "      filter: drop-shadow(0px 1px 2px rgba(0, 0, 0, 0.3));\n",
              "      fill: #FFFFFF;\n",
              "    }\n",
              "  </style>\n",
              "\n",
              "      <script>\n",
              "        const buttonEl =\n",
              "          document.querySelector('#df-9a8f3dd4-9853-4347-953a-e0d3dcfce79a button.colab-df-convert');\n",
              "        buttonEl.style.display =\n",
              "          google.colab.kernel.accessAllowed ? 'block' : 'none';\n",
              "\n",
              "        async function convertToInteractive(key) {\n",
              "          const element = document.querySelector('#df-9a8f3dd4-9853-4347-953a-e0d3dcfce79a');\n",
              "          const dataTable =\n",
              "            await google.colab.kernel.invokeFunction('convertToInteractive',\n",
              "                                                     [key], {});\n",
              "          if (!dataTable) return;\n",
              "\n",
              "          const docLinkHtml = 'Like what you see? Visit the ' +\n",
              "            '<a target=\"_blank\" href=https://colab.research.google.com/notebooks/data_table.ipynb>data table notebook</a>'\n",
              "            + ' to learn more about interactive tables.';\n",
              "          element.innerHTML = '';\n",
              "          dataTable['output_type'] = 'display_data';\n",
              "          await google.colab.output.renderOutput(dataTable, element);\n",
              "          const docLink = document.createElement('div');\n",
              "          docLink.innerHTML = docLinkHtml;\n",
              "          element.appendChild(docLink);\n",
              "        }\n",
              "      </script>\n",
              "    </div>\n",
              "  </div>\n",
              "  "
            ]
          },
          "metadata": {},
          "execution_count": 6
        }
      ]
    },
    {
      "cell_type": "code",
      "source": [
        "possible_values = get_possible_values(full_dataset, True)\n",
        "train, test = np.split(full_dataset.sample(frac=1), [int(.8*len(full_dataset))])\n",
        "train_latent, test_latent = np.split(full_dataset_latent.sample(frac=1), [int(.8*len(full_dataset_latent))])\n",
        "print(len(test))\n",
        "print(len(train))\n",
        "print(len(full_dataset))"
      ],
      "metadata": {
        "colab": {
          "base_uri": "https://localhost:8080/",
          "height": 1000
        },
        "id": "iXUZvnrWWbhA",
        "outputId": "c2c0cb2b-3a1e-43fc-b7c0-e194a1603311"
      },
      "execution_count": null,
      "outputs": [
        {
          "output_type": "stream",
          "name": "stdout",
          "text": [
            "Index(['encounter_id', 'patient_nbr', 'race', 'gender', 'age', 'weight',\n",
            "       'admission_type_id', 'discharge_disposition_id', 'admission_source_id',\n",
            "       'time_in_hospital', 'payer_code', 'medical_specialty',\n",
            "       'num_lab_procedures', 'num_procedures', 'num_medications',\n",
            "       'number_outpatient', 'number_emergency', 'number_inpatient', 'diag_1',\n",
            "       'diag_2', 'diag_3', 'number_diagnoses', 'max_glu_serum', 'A1Cresult',\n",
            "       'metformin', 'repaglinide', 'nateglinide', 'chlorpropamide',\n",
            "       'glimepiride', 'acetohexamide', 'glipizide', 'glyburide', 'tolbutamide',\n",
            "       'pioglitazone', 'rosiglitazone', 'acarbose', 'miglitol', 'troglitazone',\n",
            "       'tolazamide', 'examide', 'citoglipton', 'insulin',\n",
            "       'glyburide-metformin', 'glipizide-metformin',\n",
            "       'glimepiride-pioglitazone', 'metformin-rosiglitazone',\n",
            "       'metformin-pioglitazone', 'change', 'diabetesMed', 'readmitted'],\n",
            "      dtype='object')\n",
            "race: {'Hispanic', 'Other', 'Caucasian', '?', 'AfricanAmerican', 'Asian'}\n",
            "gender: {'Female', 'Male', 'Unknown/Invalid'}\n",
            "age: {'[60-70)', '[80-90)', '[30-40)', '[40-50)', '[20-30)', '[10-20)', '[90-100)', '[70-80)', '[50-60)', '[0-10)'}\n",
            "weight: {'[50-75)', '[0-25)', '[75-100)', '[100-125)', '[25-50)', '[175-200)', '[125-150)', '?', '[150-175)', '>200'}\n",
            "admission_type_id: {1, 2, 3, 4, 5, 6, 7, 8}\n",
            "discharge_disposition_id: {1, 2, 3, 4, 5, 6, 7, 8, 9, 10, 11, 12, 13, 14, 15, 16, 17, 18, 19, 20, 22, 23, 24, 25, 27, 28}\n",
            "admission_source_id: {1, 2, 3, 4, 5, 6, 7, 8, 9, 10, 11, 13, 14, 17, 20, 22, 25}\n",
            "time_in_hospital: {1, 2, 3, 4, 5, 6, 7, 8, 9, 10, 11, 12, 13, 14}\n",
            "payer_code: {'OG', 'BC', 'WC', 'HM', 'CP', 'FR', 'DM', 'CM', 'MP', 'MC', 'SP', 'UN', 'SI', 'MD', '?', 'CH', 'OT', 'PO'}\n",
            "medical_specialty: {'Neurophysiology', 'Speech', 'Orthopedics', 'Surgery-Pediatric', 'Nephrology', 'Surgery-Thoracic', 'Pediatrics-Neurology', 'Family/GeneralPractice', 'Surgery-Cardiovascular', 'SurgicalSpecialty', 'Rheumatology', 'Oncology', 'Pediatrics-Pulmonology', 'Anesthesiology-Pediatric', 'Pediatrics-Hematology-Oncology', 'Pediatrics', 'Podiatry', 'SportsMedicine', 'Gynecology', 'Pediatrics-EmergencyMedicine', 'Surgery-Neuro', 'ObstetricsandGynecology', 'Psychiatry-Addictive', 'PhysicianNotFound', 'Hematology', 'Surgery-Cardiovascular/Thoracic', 'Psychology', 'InfectiousDiseases', 'Proctology', 'Obstetrics', 'Surgery-Plastic', 'DCPTEAM', 'AllergyandImmunology', 'Pediatrics-AllergyandImmunology', 'Pathology', 'Pediatrics-InfectiousDiseases', 'Gastroenterology', 'Neurology', 'OutreachServices', 'InternalMedicine', 'Urology', 'PhysicalMedicineandRehabilitation', 'Surgery-Colon&Rectal', 'Hospitalist', 'Pediatrics-CriticalCare', 'Psychiatry', 'Dentistry', 'Surgery-General', 'Orthopedics-Reconstructive', 'Radiologist', 'Ophthalmology', 'Surgery-Maxillofacial', 'Emergency/Trauma', 'Dermatology', 'Endocrinology', 'Surgery-PlasticwithinHeadandNeck', 'Pediatrics-Endocrinology', 'Anesthesiology', 'Surgery-Vascular', 'Resident', 'Otolaryngology', 'Osteopath', 'Radiology', 'Pulmonology', 'Surgeon', 'Psychiatry-Child/Adolescent', 'Hematology/Oncology', 'Cardiology', '?', 'Perinatology', 'Endocrinology-Metabolism', 'Obsterics&Gynecology-GynecologicOnco', 'Cardiology-Pediatric'}\n",
            "num_lab_procedures: {1, 2, 3, 4, 5, 6, 7, 8, 9, 10, 11, 12, 13, 14, 15, 16, 17, 18, 19, 20, 21, 22, 23, 24, 25, 26, 27, 28, 29, 30, 31, 32, 33, 34, 35, 36, 37, 38, 39, 40, 41, 42, 43, 44, 45, 46, 47, 48, 49, 50, 51, 52, 53, 54, 55, 56, 57, 58, 59, 60, 61, 62, 63, 64, 65, 66, 67, 68, 69, 70, 71, 72, 73, 74, 75, 76, 77, 78, 79, 80, 81, 82, 83, 84, 85, 86, 87, 88, 89, 90, 91, 92, 93, 94, 95, 96, 97, 98, 99, 100, 101, 102, 103, 104, 105, 106, 107, 108, 109, 111, 113, 114, 118, 120, 121, 126, 129, 132}\n",
            "num_procedures: {0, 1, 2, 3, 4, 5, 6}\n",
            "num_medications: {1, 2, 3, 4, 5, 6, 7, 8, 9, 10, 11, 12, 13, 14, 15, 16, 17, 18, 19, 20, 21, 22, 23, 24, 25, 26, 27, 28, 29, 30, 31, 32, 33, 34, 35, 36, 37, 38, 39, 40, 41, 42, 43, 44, 45, 46, 47, 48, 49, 50, 51, 52, 53, 54, 55, 56, 57, 58, 59, 60, 61, 62, 63, 64, 65, 66, 67, 68, 69, 70, 72, 74, 75, 79, 81}\n",
            "number_outpatient: {0, 1, 2, 3, 4, 5, 6, 7, 8, 9, 10, 11, 12, 13, 14, 15, 16, 17, 18, 19, 20, 21, 22, 23, 24, 25, 26, 27, 28, 29, 33, 34, 35, 36, 37, 38, 39, 40, 42}\n",
            "number_emergency: {0, 1, 2, 3, 4, 5, 6, 7, 8, 9, 10, 11, 12, 13, 14, 15, 16, 18, 19, 20, 21, 22, 24, 25, 28, 29, 37, 42, 46, 54, 63, 64, 76}\n",
            "number_inpatient: {0, 1, 2, 3, 4, 5, 6, 7, 8, 9, 10, 11, 12, 13, 14, 15, 16, 17, 18, 19, 21}\n",
            "diag_1: {'963', '575', '440', '191', 'V66', '566', 'V07', '659', 'V63', '246', '608', '428', '827', '462', '404', '578', '510', '716', '441', '340', '735', '376', '804', '942', '861', '655', '709', '871', '286', '250.41', '496', '253', '816', '715', '250.92', '693', '203', '53', '623', '250.03', '508', '725', '922', '145', '175', '97', '724', '810', '358', '959', '401', '282', '521', '314', '581', '615', '825', '843', '706', '944', '486', '663', '284', '799', '996', '233', '296', '297', '558', '582', '913', '524', '411', '495', '466', '923', '756', '945', '593', '920', '722', 'V53', '557', '334', '780', '788', '324', '219', '916', '442', '173', '511', '519', '705', '955', '27', '355', '307', '805', '454', '357', '854', '306', '815', '535', '491', '513', '851', '433', '654', '648', '199', '250.23', '351', '852', '784', '732', '936', '187', '391', '515', '388', '250.31', 'V26', '625', '431', '806', '586', '465', 'V57', '892', '658', '308', '703', '273', '997', '341', '542', '973', '823', '565', '696', '156', '494', '994', '385', '250.13', '39', '618', '402', '303', '188', '336', '250.53', '438', '147', '865', '457', '289', '57', '293', '9', '602', 'V70', '579', '591', '161', '345', '451', '588', '272', '684', '150', '653', '903', '250.3', '637', '333', '728', '656', '952', '403', '791', '215', '214', '378', '332', '493', '727', '421', '746', '54', '223', '550', '982', '924', '988', '560', '414', '820', '155', '395', '397', '847', '435', '318', '598', '551', '153', '379', '708', '34', '710', '682', '652', '475', '621', '669', '458', '276', '216', '987', '585', '577', '94', 'E909', '456', '571', '972', '842', '245', '553', '787', '398', '207', '79', '568', '962', '291', '136', '157', '991', '721', '117', '369', '881', '690', '196', '691', '995', '999', '826', '210', '242', '250.7', '717', '883', '275', '481', '490', '174', '616', '864', '250.22', '183', '7', '36', '250.91', 'V25', '643', '543', '838', '477', '723', '641', '250.33', '197', '720', '?', '344', '372', '301', '599', '738', '789', '304', '58', '415', '172', '802', '594', '266', 'V51', '194', '374', '352', '294', '47', '277', '680', '250.01', '893', '483', '346', '485', '500', '66', '148', '573', '814', '681', '686', '556', '514', '917', '320', '424', '840', '278', 'V43', '241', '600', '425', '235', '518', '200', '800', '179', '163', '410', '986', '835', '110', '480', '734', '338', '142', '420', '184', '891', '822', '250.2', '135', '817', '633', '389', '657', '437', '522', '537', '863', '536', '133', '250.4', '527', '873', '934', '604', '38', '507', '131', '941', '868', '452', '647', '180', '41', '348', '782', '250.32', '801', '146', '580', '342', '461', '933', '574', '989', '885', '52', '350', '998', '747', '974', '733', '198', '786', '195', '381', '250.93', '464', '405', '309', '570', '182', '430', '171', '601', '501', '470', '846', 'V60', '886', '82', '154', '759', '904', '250', '506', '434', '217', '141', '274', '164', '692', '48', '862', '271', '844', 'V55', '879', '626', '595', '866', '983', '531', '151', '848', '990', '980', '737', '312', '189', '795', '821', '850', '674', '382', '478', '238', '227', '230', '867', '459', '250.9', '250.82', '971', '605', '98', '576', '443', '966', '528', '620', '287', '969', '875', '845', '305', '660', '967', '695', '880', '361', '363', '463', '280', '112', '446', '474', '218', '453', '250.8', '683', '482', '645', '292', '753', '921', '285', '204', '335', 'V71', '323', '359', '665', '149', '928', '412', '718', '704', '354', '299', '23', '279', '977', '383', '919', '170', '240', '529', '347', '803', '375', '530', '75', '619', '423', '853', '564', '610', '694', '263', '534', '622', '250.83', '250.51', '700', '870', '935', '642', '239', '250.6', '229', '562', '649', '975', '444', '250.21', '429', '661', '193', 'V54', '84', '78', '250.52', '567', '447', '426', '834', '356', '729', '416', '714', '915', '970', '3', '70', '353', '42', '533', '860', '897', 'V56', '386', '295', '237', '794', '10', '964', '572', '627', '422', '532', '976', '337', '436', '487', '751', '895', '796', '255', '250.12', '205', '394', '288', '310', 'V67', '707', '541', '611', '890', '832', '31', '992', '432', '797', '211', '584', '516', '603', '185', '671', '596', '792', '968', '192', '281', '228', '878', '646', '632', '250.1', '555', '685', '115', '35', '11', '202', '220', '833', '914', '349', '8', '781', '807', '590', '785', '471', '427', '331', '114', '473', '160', '569', '617', '731', '965', '698', '526', '396', '244', '607', '939', '250.11', '745', '250.81', '808', '162', '552', '5', '143', 'V58', '958', '250.43', '158', '957', '640', '88', '325', '262', '384', '365', '201', '417', '592', '322', '831', '583', '644', '226', '911', '366', '377', '790', '812', '298', '726', '236', '445', '290', '250.02', '327', '250.5', '373', '208', '540', '836', '837', '311', '370', '793', '252', '492', '152', '261', '250.42', '839', '824', '455', '251', '413', '783', '448', '49', '360', '225', '614', '212', '711', '664', '362', '906', '719', 'V45', '634', '882', '368', '736', '300', '523', '283', '61', '730', '813', '512', '380'}\n",
            "diag_2: {'963', '575', '440', '191', 'V66', '566', 'V46', '659', 'V63', '246', '608', '428', 'E931', '270', '462', 'V15', '404', '578', '510', '716', '948', '441', '340', '376', '942', '861', '709', '871', '286', '496', 'V10', '250.41', '750', '253', '319', '816', '715', '250.92', '693', 'E883', '203', '53', '623', 'E917', '250.03', '508', '725', '922', '145', '724', '810', '908', '358', 'V18', '959', '484', '401', '314', '282', '521', '581', '615', '825', '748', '706', '843', 'E939', '944', '486', '663', '284', '799', '996', '233', '296', '297', '558', '913', '40', 'E930', '524', '411', '495', '466', '923', '756', '945', 'E819', '593', 'E906', '920', '722', '557', 'V53', 'E870', '780', '788', '324', '916', 'E858', '442', '173', '511', '519', '705', '955', '27', '355', '307', 'E947', '805', 'V17', '454', '357', '306', '815', '535', '491', '513', '851', '433', '654', '648', '199', 'E929', '953', '250.23', '351', '894', '852', 'E817', '784', '869', '515', '388', '250.31', 'V44', '625', '431', '806', '586', '465', '96', 'V57', '892', '658', 'E829', '308', '703', '273', 'V42', '997', '341', '542', '140', 'E941', '823', '565', '696', '156', '494', '994', '250.13', '618', '402', '303', '188', '336', '250.53', '438', '865', '457', '289', 'V70', '293', '9', '811', 'E933', '272', '591', '579', '345', '451', '684', '588', '602', '316', '150', '123', '912', '250.3', '333', '728', '656', '952', '403', '791', 'E854', '215', '214', '378', '332', '493', '727', '421', '746', '54', '223', 'E980', '550', '670', 'E890', '924', '560', '414', '155', '820', '395', '397', '755', '847', '435', '318', '598', '153', '379', '34', '710', '520', '682', 'V11', '652', '621', '475', '256', '458', '752', '276', 'E885', '987', '585', '577', '94', '456', '571', '972', '842', '245', '553', '787', '398', '79', '568', '962', '291', 'E918', '741', '136', '157', 'V65', '268', '991', '721', '117', '369', '881', 'V14', '196', '691', 'V62', '999', '995', '826', '242', '250.7', '717', 'V64', '364', '883', '275', '742', '460', '481', 'E850', '490', '927', '174', '616', '864', '250.22', '183', '7', '250.91', 'V25', '543', '259', '477', '723', 'E826', '641', '250.33', '197', 'E965', '?', '344', '372', '301', 'E884', '599', '789', '304', '738', '415', '172', '594', '802', '266', 'V03', '907', '758', '374', '352', '294', '277', '680', '250.01', '260', '893', '483', '346', '485', '500', '66', '573', '814', '681', 'V86', '686', '910', 'V72', '556', '917', 'E878', '320', '424', '840', 'E813', '514', 'E916', '302', '278', 'V43', '241', '425', '600', '235', '518', '200', '179', '163', '800', '410', '110', '480', '734', '338', '420', '891', '822', '250.2', '135', 'E945', 'V61', '389', 'E882', '437', '522', '537', 'V16', '863', '536', 'E934', '250.4', 'E812', '527', '873', '934', '604', '38', '507', '131', '868', '452', '647', '180', 'V08', '713', '41', '348', '782', '250.32', '801', 'E932', 'E905', '580', '701', '99', '342', '461', 'E868', '933', '574', '989', '52', '350', '998', '747', '974', '733', '198', '786', '381', '195', '250.93', '464', '405', '309', 'E950', 'E888', 'E814', '570', 'E887', '182', '430', '171', '601', '501', '470', '846', 'V60', '909', '154', '759', '250', '506', '434', '217', 'E881', '141', '274', '164', 'E924', '692', '271', '862', '844', 'E821', 'E968', '317', '472', 'V55', '879', '626', '595', '866', '531', '151', '990', '754', '980', '737', '312', '189', '795', '850', '821', '674', '382', '478', '867', '227', '238', '459', '250.9', '250.82', '605', '576', '443', '528', '620', '287', '969', 'E942', '884', '845', '305', '967', '695', '880', '463', 'E880', '280', '112', '446', '474', '218', '453', '250.8', '683', '482', '702', '645', '918', '292', '753', '921', '285', '204', '335', '323', '359', '665', '412', 'V09', '718', '704', '354', 'V50', '299', '279', '977', '383', '919', '240', '529', '347', 'E818', '530', '130', '75', '619', '423', '853', '564', '610', '694', '263', '622', '534', '250.51', '250.83', '870', 'E927', '642', '239', '250.6', '649', '562', '975', '444', '137', 'V54', '429', '661', '193', '250.21', '250.52', '78', '567', '447', '426', 'E915', '356', '729', '416', '714', '915', 'E936', 'V02', '70', '353', '42', '533', '860', '386', '295', '794', '572', '627', '422', '532', '436', '337', '872', '487', '751', 'V23', '796', '255', '250.12', 'V12', '205', '394', '288', '712', '310', '707', '832', '611', 'E816', '31', '992', '432', '797', 'E853', '343', '211', '584', '516', '603', '185', '596', '792', '968', '192', '281', '228', '646', '250.1', '685', '555', '115', 'E900', '35', 'E879', '11', '202', '220', '833', '349', '8', '781', '807', '590', '785', '905', 'E919', '427', '269', '331', '114', '473', '569', '617', '731', '965', '698', '396', '244', '607', '745', '250.11', '250.81', 'E849', '808', '162', '552', '5', '958', '250.43', 'V58', '88', 'E928', 'E937', '325', 'V49', '517', '262', '365', '201', 'V85', '592', '322', '831', '583', '947', '644', '226', 'E935', '911', '366', '377', '790', '258', '812', '298', '138', '726', 'V13', '290', '250.02', '111', '327', '250.5', '373', '208', '540', '837', '836', '311', '186', 'E938', '793', '252', '492', '152', '261', '250.42', 'V69', '783', '455', '824', '413', '448', '251', '232', '225', '614', '360', '212', '711', '664', '362', '906', '719', '46', 'V45', 'E944', '882', '634', '368', '300', '736', '523', '283', '730', '813', '512', '380'}\n",
            "diag_3: {'575', '440', 'V66', '191', '566', 'V46', 'V07', 'E955', '659', 'V63', '246', '608', 'V06', '428', 'E931', '270', '462', '404', 'V15', '578', '510', '716', '948', '441', '340', '735', '376', '942', '861', '709', '655', '871', 'E894', '286', '250.41', '496', 'V10', '750', '253', '319', '816', '715', 'E828', '250.92', '693', 'E883', '203', '53', '623', 'E917', '250.03', '508', '725', '922', '175', '724', '810', '908', '959', 'V18', '358', '484', '401', '282', '314', '521', '581', '825', '706', 'E939', '944', '486', '663', '284', '799', '996', '233', '296', '582', '558', '297', '913', 'E949', 'E930', '524', '411', '495', '466', '923', '945', '756', 'E819', '593', 'E906', '920', '722', '557', 'V53', '334', '780', 'E870', '788', '916', 'E858', '442', 'E825', '173', '511', '519', '705', 'E943', '955', '841', '27', '355', '307', 'E947', '805', 'V17', '454', '357', '370', '854', '306', '815', '535', '491', '851', '654', '433', '648', 'E929', '199', '953', '250.23', '351', '852', 'E817', 'V27', '784', '732', '122', '265', '391', '515', '388', '250.31', 'V44', '625', '431', '586', '465', 'V57', '892', '658', '703', '308', '943', '273', 'V42', '997', '341', '542', 'E941', '823', '565', '696', '156', '494', '385', '250.13', '618', '402', '303', '188', '336', '250.53', '438', '865', '457', '289', 'V70', '293', '9', '602', 'E933', '272', '591', '588', '345', '451', '579', '811', '161', '684', '150', 'E946', 'E966', '697', '123', '653', '912', '250.3', '333', '728', '656', '952', '403', '791', 'E912', '215', 'E854', '214', '378', '332', '493', '525', '727', '746', '421', '54', 'E980', '223', '550', '670', '757', '924', '365.44', 'E892', '560', '387', '414', '155', '820', '395', '397', '14', '876', '755', '847', '435', '318', '598', '153', '379', '708', '34', '710', '682', 'V11', '652', '621', '256', '475', '669', '458', '752', '276', 'E885', '216', '987', '585', '577', '94', '456', '571', '972', '842', '245', '553', '787', '398', '79', '568', '962', '291', '741', '136', '157', 'V65', '268', '991', '721', '117', '369', '881', 'V14', '690', '196', 'V62', '995', '999', '826', '242', '250.7', '717', 'V64', '883', '275', '742', '460', 'E850', '481', '490', '174', '616', '864', '250.22', '7', '183', '250.91', 'V25', '643', '543', '259', '838', '477', '723', 'E826', '641', '197', 'E965', '720', '?', 'E815', '344', '372', '301', 'E884', '599', '789', '304', '738', '415', '172', '594', '802', '266', 'V03', '907', '758', '374', '294', '47', '277', '680', '250.01', '260', '893', '483', '346', '485', '500', '66', '148', 'E876', '573', '814', '681', 'V86', '686', 'V72', '910', '556', '17', '917', 'E878', '514', '424', '840', 'E813', 'E916', '278', 'V43', '241', '425', '600', '235', '518', '200', '179', '163', '800', '410', '110', '480', '734', '338', '420', '891', '822', '250.2', '135', 'E945', 'V61', '389', 'E882', '657', '437', '522', '537', 'V16', '863', '536', 'E934', '250.4', '527', 'E812', '873', '934', '604', '38', '131', '507', '868', '452', '647', '180', 'V08', '713', '41', '348', '782', '801', 'E932', 'E905', '146', 'E864', '580', '701', '342', '461', '933', '574', '989', '350', '998', '747', '733', '198', '786', '195', '381', '250.93', '464', '405', '309', 'E950', 'E888', '570', 'E887', '182', '171', '430', '601', '501', '470', 'V60', '909', '154', '759', '250', '506', '434', '217', 'E881', '141', '274', '164', 'E924', '692', '271', '862', '844', 'V55', '472', '317', '879', '595', '626', '866', '531', '151', '848', '754', '980', '737', '312', '189', '795', '821', '850', '674', '382', '478', '238', '227', '867', '230', '459', '250.9', '250.82', '605', '971', '576', '443', '966', '528', '620', '287', '969', 'E942', '884', '875', '845', '305', '660', '695', '967', '880', 'E865', '597', '361', '463', 'E880', '280', '112', '446', '218', '453', '250.8', '482', '702', '918', '753', '292', '921', '285', '204', '335', '132', '323', '359', '665', 'V01', '928', '412', 'V09', 'E920', '718', '704', '354', '299', '279', '919', '383', '240', '170', '529', '347', 'E818', '530', '75', '619', '423', '853', '564', '610', '694', '263', '534', '622', '250.51', '250.83', '870', '951', '935', 'E927', '642', 'E861', '239', '250.6', '649', '562', '444', 'V54', '429', '661', '193', '250.21', '250.52', '78', '567', '447', '426', '834', 'E915', '356', '729', '416', '714', '915', 'E936', 'V02', '970', '3', '70', '353', '42', '956', '533', '860', '386', '295', '930', '794', '243', '627', '572', '532', '337', '436', '872', '487', '751', 'V23', '796', '255', '250.12', 'V12', '205', '394', '288', '57', '712', '310', '707', 'E816', '890', '611', '797', '432', '992', 'E853', '343', '211', '584', '516', '603', '185', '671', '596', '792', '192', '281', '228', '646', '685', '250.1', '555', 'E855', '139', '115', 'E900', '35', 'E879', '11', '202', '220', '349', '781', '8', '807', '590', '785', '905', 'E919', '427', '331', '624', 'E886', '473', '569', '617', '731', '698', '965', '396', '244', '607', '745', '250.11', '250.81', 'E849', '315', '313', '808', '162', '552', '5', 'E852', 'V58', '250.43', '958', '158', '88', 'E928', 'E937', 'V49', '517', '384', '262', '365', 'E822', '201', '417', 'V85', '592', '538', '831', 'E956', '583', '644', '226', 'E935', '911', '366', '877', '744', '377', '790', '258', '812', '298', '138', '726', 'V13', 'E901', '445', '236', '290', '250.02', '327', '111', '250.5', '373', '208', '836', 'E938', '540', '311', '186', '837', '793', '252', '492', 'E904', '261', '152', '250.42', 'E922', '455', '783', '251', '413', '824', '448', '49', '360', '225', '614', '711', '664', '362', '906', '719', 'E987', 'V45', 'E944', 'V22', '882', '736', '300', '368', '523', '283', '730', '813', '512', '380'}\n",
            "number_diagnoses: {1, 2, 3, 4, 5, 6, 7, 8, 9, 10, 11, 12, 13, 14, 15, 16}\n",
            "max_glu_serum: {'None', '>300', '>200', 'Norm'}\n",
            "A1Cresult: {'None', '>7', 'Norm', '>8'}\n",
            "metformin: {'Steady', 'No', 'Down', 'Up'}\n",
            "repaglinide: {'Steady', 'No', 'Down', 'Up'}\n",
            "nateglinide: {'Steady', 'No', 'Down', 'Up'}\n",
            "chlorpropamide: {'Steady', 'No', 'Down', 'Up'}\n",
            "glimepiride: {'Steady', 'No', 'Down', 'Up'}\n",
            "acetohexamide: {'Steady', 'No'}\n",
            "glipizide: {'Steady', 'No', 'Down', 'Up'}\n",
            "glyburide: {'Steady', 'No', 'Down', 'Up'}\n",
            "tolbutamide: {'Steady', 'No'}\n",
            "pioglitazone: {'Steady', 'No', 'Down', 'Up'}\n",
            "rosiglitazone: {'Steady', 'No', 'Down', 'Up'}\n",
            "acarbose: {'Steady', 'No', 'Down', 'Up'}\n",
            "miglitol: {'Steady', 'No', 'Down', 'Up'}\n",
            "troglitazone: {'Steady', 'No'}\n",
            "tolazamide: {'Steady', 'No', 'Up'}\n",
            "examide: {'No'}\n",
            "citoglipton: {'No'}\n",
            "insulin: {'Steady', 'No', 'Down', 'Up'}\n",
            "glyburide-metformin: {'Steady', 'No', 'Down', 'Up'}\n",
            "glipizide-metformin: {'Steady', 'No'}\n",
            "glimepiride-pioglitazone: {'Steady', 'No'}\n",
            "metformin-rosiglitazone: {'Steady', 'No'}\n",
            "metformin-pioglitazone: {'Steady', 'No'}\n",
            "change: {'Ch', 'No'}\n",
            "diabetesMed: {'Yes', 'No'}\n",
            "readmitted: {'<30', 'NO', '>30'}\n"
          ]
        },
        {
          "output_type": "error",
          "ename": "NameError",
          "evalue": "ignored",
          "traceback": [
            "\u001b[0;31m---------------------------------------------------------------------------\u001b[0m",
            "\u001b[0;31mNameError\u001b[0m                                 Traceback (most recent call last)",
            "\u001b[0;32m<ipython-input-4-d06328c6a1d6>\u001b[0m in \u001b[0;36m<module>\u001b[0;34m()\u001b[0m\n\u001b[1;32m      1\u001b[0m \u001b[0mpossible_values\u001b[0m \u001b[0;34m=\u001b[0m \u001b[0mget_possible_values\u001b[0m\u001b[0;34m(\u001b[0m\u001b[0mfull_dataset\u001b[0m\u001b[0;34m,\u001b[0m \u001b[0;32mTrue\u001b[0m\u001b[0;34m)\u001b[0m\u001b[0;34m\u001b[0m\u001b[0;34m\u001b[0m\u001b[0m\n\u001b[1;32m      2\u001b[0m \u001b[0mtrain\u001b[0m\u001b[0;34m,\u001b[0m \u001b[0mtest\u001b[0m \u001b[0;34m=\u001b[0m \u001b[0mnp\u001b[0m\u001b[0;34m.\u001b[0m\u001b[0msplit\u001b[0m\u001b[0;34m(\u001b[0m\u001b[0mfull_dataset\u001b[0m\u001b[0;34m.\u001b[0m\u001b[0msample\u001b[0m\u001b[0;34m(\u001b[0m\u001b[0mfrac\u001b[0m\u001b[0;34m=\u001b[0m\u001b[0;36m1\u001b[0m\u001b[0;34m)\u001b[0m\u001b[0;34m,\u001b[0m \u001b[0;34m[\u001b[0m\u001b[0mint\u001b[0m\u001b[0;34m(\u001b[0m\u001b[0;36m.8\u001b[0m\u001b[0;34m*\u001b[0m\u001b[0mlen\u001b[0m\u001b[0;34m(\u001b[0m\u001b[0mfull_dataset\u001b[0m\u001b[0;34m)\u001b[0m\u001b[0;34m)\u001b[0m\u001b[0;34m]\u001b[0m\u001b[0;34m)\u001b[0m\u001b[0;34m\u001b[0m\u001b[0;34m\u001b[0m\u001b[0m\n\u001b[0;32m----> 3\u001b[0;31m \u001b[0mtrain_latent\u001b[0m\u001b[0;34m,\u001b[0m \u001b[0mtest_latent\u001b[0m \u001b[0;34m=\u001b[0m \u001b[0mnp\u001b[0m\u001b[0;34m.\u001b[0m\u001b[0msplit\u001b[0m\u001b[0;34m(\u001b[0m\u001b[0mfull_dataset_latent\u001b[0m\u001b[0;34m.\u001b[0m\u001b[0msample\u001b[0m\u001b[0;34m(\u001b[0m\u001b[0mfrac\u001b[0m\u001b[0;34m=\u001b[0m\u001b[0;36m1\u001b[0m\u001b[0;34m)\u001b[0m\u001b[0;34m,\u001b[0m \u001b[0;34m[\u001b[0m\u001b[0mint\u001b[0m\u001b[0;34m(\u001b[0m\u001b[0;36m.8\u001b[0m\u001b[0;34m*\u001b[0m\u001b[0mlen\u001b[0m\u001b[0;34m(\u001b[0m\u001b[0mfull_dataset\u001b[0m\u001b[0;34m)\u001b[0m\u001b[0;34m)\u001b[0m\u001b[0;34m]\u001b[0m\u001b[0;34m)\u001b[0m\u001b[0;34m\u001b[0m\u001b[0;34m\u001b[0m\u001b[0m\n\u001b[0m\u001b[1;32m      4\u001b[0m \u001b[0mprint\u001b[0m\u001b[0;34m(\u001b[0m\u001b[0mlen\u001b[0m\u001b[0;34m(\u001b[0m\u001b[0mtest\u001b[0m\u001b[0;34m)\u001b[0m\u001b[0;34m)\u001b[0m\u001b[0;34m\u001b[0m\u001b[0;34m\u001b[0m\u001b[0m\n\u001b[1;32m      5\u001b[0m \u001b[0mprint\u001b[0m\u001b[0;34m(\u001b[0m\u001b[0mlen\u001b[0m\u001b[0;34m(\u001b[0m\u001b[0mtrain\u001b[0m\u001b[0;34m)\u001b[0m\u001b[0;34m)\u001b[0m\u001b[0;34m\u001b[0m\u001b[0;34m\u001b[0m\u001b[0m\n",
            "\u001b[0;31mNameError\u001b[0m: name 'full_dataset_latent' is not defined"
          ]
        }
      ]
    },
    {
      "cell_type": "markdown",
      "source": [
        "The continuous variables are:\n",
        "\n",
        "\n",
        "*   age\n",
        "*   time_in_hospital\n",
        "*   num_lab_procedures\n",
        "*   num_procedures\n",
        "*   num_medications\n",
        "*   number_outpatient\n",
        "*   number_emergency\n",
        "*   number_inpatient\n",
        "*   number_diagnoses\n",
        "\n",
        "Everything else is categorical variables which will require a one-hot encoding. Ordinal vs noominal.\n",
        "\n"
      ],
      "metadata": {
        "id": "TpkL4NagmXrN"
      }
    },
    {
      "cell_type": "markdown",
      "source": [
        "## K-nearest neighbors\n",
        "\n",
        "Since K-nearest neighbors struggles with categorical labels, and converting these categorical labels into high dimensional one-hot labels could lead to unacceptable run times, first we will try running K-nearest neighbors using only the above ordinal variables. Moreover, for KNN in particular we should normalize the variables beforehand since different scalings would mean that certain variables are more important than others. To do this we will divide each category of data by its standard deviation so they all have standard deviations of 1. "
      ],
      "metadata": {
        "id": "nb3tC5v1ynY1"
      }
    },
    {
      "cell_type": "markdown",
      "source": [
        "### with only number features"
      ],
      "metadata": {
        "id": "q6oB9tmTTODk"
      }
    },
    {
      "cell_type": "code",
      "source": [
        "from sklearn.neighbors import KNeighborsClassifier\n",
        "\n",
        "num_neighbors = range(1,30)\n",
        "# train[\"age\"]\n",
        "# train[\"time_in_hospital\"]\n",
        "# train[\"num_lab_procedures\"]\n",
        "# train[\"num_procedures\"]\n",
        "# train[\"num_medications\"]\n",
        "# train[\"number_outpatient\"]\n",
        "# train[\"number_emergency\"]\n",
        "# train[\"number_inpatient\"]\n",
        "# train[\"number_diagnoses\"]\n",
        "X, labels = train[[\"age\", \"time_in_hospital\", \"num_lab_procedures\", \"num_procedures\", \n",
        "                  \"num_medications\", \"number_outpatient\", \"number_emergency\", \n",
        "                  \"number_inpatient\", \"number_diagnoses\"]], train[\"readmitted\"]\n",
        "X_test, labels_test = test[[\"age\", \"time_in_hospital\", \"num_lab_procedures\", \n",
        "                           \"num_procedures\", \"num_medications\", \"number_outpatient\", \n",
        "                           \"number_emergency\", \"number_inpatient\", \n",
        "                           \"number_diagnoses\"]], test[\"readmitted\"]\n",
        "# np.save(\"KNN_train_data\", train)\n",
        "# np.save(\"KNN_test_data\", test)\n",
        "\n",
        "test_accuracies = []\n",
        "for num in num_neighbors:\n",
        "  classifier = KNeighborsClassifier(num)\n",
        "  # X = (X-X.mean()) / X.std()\n",
        "  # X_test = (X_test-X_test.mean()) / X_test.std()\n",
        "  classifier.fit(X, labels)\n",
        "  predicted = classifier.predict(X_test)\n",
        "  count = np.count_nonzero(labels_test==predicted)\n",
        "  # print(num)\n",
        "  # print(\"Achieved test accuracy of: \" + str(count / len(labels_test)))\n",
        "  test_accuracies.append(count / len(labels_test))\n",
        "# np.save(\"KNN_unnormalized_only_ordinal\", test_accuracies)\n",
        "\n"
      ],
      "metadata": {
        "id": "2rXhQXLgyqqT",
        "colab": {
          "base_uri": "https://localhost:8080/",
          "height": 399
        },
        "outputId": "9960a860-d419-499e-d609-f271709765b3"
      },
      "execution_count": null,
      "outputs": [
        {
          "output_type": "error",
          "ename": "KeyboardInterrupt",
          "evalue": "ignored",
          "traceback": [
            "\u001b[0;31m---------------------------------------------------------------------------\u001b[0m",
            "\u001b[0;31mKeyboardInterrupt\u001b[0m                         Traceback (most recent call last)",
            "\u001b[0;32m<ipython-input-6-b2b366ab6b60>\u001b[0m in \u001b[0;36m<module>\u001b[0;34m()\u001b[0m\n\u001b[1;32m     27\u001b[0m   \u001b[0;31m# X_test = (X_test-X_test.mean()) / X_test.std()\u001b[0m\u001b[0;34m\u001b[0m\u001b[0;34m\u001b[0m\u001b[0;34m\u001b[0m\u001b[0m\n\u001b[1;32m     28\u001b[0m   \u001b[0mclassifier\u001b[0m\u001b[0;34m.\u001b[0m\u001b[0mfit\u001b[0m\u001b[0;34m(\u001b[0m\u001b[0mX\u001b[0m\u001b[0;34m,\u001b[0m \u001b[0mlabels\u001b[0m\u001b[0;34m)\u001b[0m\u001b[0;34m\u001b[0m\u001b[0;34m\u001b[0m\u001b[0m\n\u001b[0;32m---> 29\u001b[0;31m   \u001b[0mpredicted\u001b[0m \u001b[0;34m=\u001b[0m \u001b[0mclassifier\u001b[0m\u001b[0;34m.\u001b[0m\u001b[0mpredict\u001b[0m\u001b[0;34m(\u001b[0m\u001b[0mX_test\u001b[0m\u001b[0;34m)\u001b[0m\u001b[0;34m\u001b[0m\u001b[0;34m\u001b[0m\u001b[0m\n\u001b[0m\u001b[1;32m     30\u001b[0m   \u001b[0mcount\u001b[0m \u001b[0;34m=\u001b[0m \u001b[0mnp\u001b[0m\u001b[0;34m.\u001b[0m\u001b[0mcount_nonzero\u001b[0m\u001b[0;34m(\u001b[0m\u001b[0mlabels_test\u001b[0m\u001b[0;34m==\u001b[0m\u001b[0mpredicted\u001b[0m\u001b[0;34m)\u001b[0m\u001b[0;34m\u001b[0m\u001b[0;34m\u001b[0m\u001b[0m\n\u001b[1;32m     31\u001b[0m   \u001b[0;31m# print(num)\u001b[0m\u001b[0;34m\u001b[0m\u001b[0;34m\u001b[0m\u001b[0;34m\u001b[0m\u001b[0m\n",
            "\u001b[0;32m/usr/local/lib/python3.7/dist-packages/sklearn/neighbors/_classification.py\u001b[0m in \u001b[0;36mpredict\u001b[0;34m(self, X)\u001b[0m\n\u001b[1;32m    212\u001b[0m             \u001b[0mClass\u001b[0m \u001b[0mlabels\u001b[0m \u001b[0;32mfor\u001b[0m \u001b[0meach\u001b[0m \u001b[0mdata\u001b[0m \u001b[0msample\u001b[0m\u001b[0;34m.\u001b[0m\u001b[0;34m\u001b[0m\u001b[0;34m\u001b[0m\u001b[0m\n\u001b[1;32m    213\u001b[0m         \"\"\"\n\u001b[0;32m--> 214\u001b[0;31m         \u001b[0mneigh_dist\u001b[0m\u001b[0;34m,\u001b[0m \u001b[0mneigh_ind\u001b[0m \u001b[0;34m=\u001b[0m \u001b[0mself\u001b[0m\u001b[0;34m.\u001b[0m\u001b[0mkneighbors\u001b[0m\u001b[0;34m(\u001b[0m\u001b[0mX\u001b[0m\u001b[0;34m)\u001b[0m\u001b[0;34m\u001b[0m\u001b[0;34m\u001b[0m\u001b[0m\n\u001b[0m\u001b[1;32m    215\u001b[0m         \u001b[0mclasses_\u001b[0m \u001b[0;34m=\u001b[0m \u001b[0mself\u001b[0m\u001b[0;34m.\u001b[0m\u001b[0mclasses_\u001b[0m\u001b[0;34m\u001b[0m\u001b[0;34m\u001b[0m\u001b[0m\n\u001b[1;32m    216\u001b[0m         \u001b[0m_y\u001b[0m \u001b[0;34m=\u001b[0m \u001b[0mself\u001b[0m\u001b[0;34m.\u001b[0m\u001b[0m_y\u001b[0m\u001b[0;34m\u001b[0m\u001b[0;34m\u001b[0m\u001b[0m\n",
            "\u001b[0;32m/usr/local/lib/python3.7/dist-packages/sklearn/neighbors/_base.py\u001b[0m in \u001b[0;36mkneighbors\u001b[0;34m(self, X, n_neighbors, return_distance)\u001b[0m\n\u001b[1;32m    778\u001b[0m                     \u001b[0mself\u001b[0m\u001b[0;34m.\u001b[0m\u001b[0m_tree\u001b[0m\u001b[0;34m,\u001b[0m \u001b[0mX\u001b[0m\u001b[0;34m[\u001b[0m\u001b[0ms\u001b[0m\u001b[0;34m]\u001b[0m\u001b[0;34m,\u001b[0m \u001b[0mn_neighbors\u001b[0m\u001b[0;34m,\u001b[0m \u001b[0mreturn_distance\u001b[0m\u001b[0;34m\u001b[0m\u001b[0;34m\u001b[0m\u001b[0m\n\u001b[1;32m    779\u001b[0m                 )\n\u001b[0;32m--> 780\u001b[0;31m                 \u001b[0;32mfor\u001b[0m \u001b[0ms\u001b[0m \u001b[0;32min\u001b[0m \u001b[0mgen_even_slices\u001b[0m\u001b[0;34m(\u001b[0m\u001b[0mX\u001b[0m\u001b[0;34m.\u001b[0m\u001b[0mshape\u001b[0m\u001b[0;34m[\u001b[0m\u001b[0;36m0\u001b[0m\u001b[0;34m]\u001b[0m\u001b[0;34m,\u001b[0m \u001b[0mn_jobs\u001b[0m\u001b[0;34m)\u001b[0m\u001b[0;34m\u001b[0m\u001b[0;34m\u001b[0m\u001b[0m\n\u001b[0m\u001b[1;32m    781\u001b[0m             )\n\u001b[1;32m    782\u001b[0m         \u001b[0;32melse\u001b[0m\u001b[0;34m:\u001b[0m\u001b[0;34m\u001b[0m\u001b[0;34m\u001b[0m\u001b[0m\n",
            "\u001b[0;32m/usr/local/lib/python3.7/dist-packages/joblib/parallel.py\u001b[0m in \u001b[0;36m__call__\u001b[0;34m(self, iterable)\u001b[0m\n\u001b[1;32m   1041\u001b[0m             \u001b[0;31m# remaining jobs.\u001b[0m\u001b[0;34m\u001b[0m\u001b[0;34m\u001b[0m\u001b[0;34m\u001b[0m\u001b[0m\n\u001b[1;32m   1042\u001b[0m             \u001b[0mself\u001b[0m\u001b[0;34m.\u001b[0m\u001b[0m_iterating\u001b[0m \u001b[0;34m=\u001b[0m \u001b[0;32mFalse\u001b[0m\u001b[0;34m\u001b[0m\u001b[0;34m\u001b[0m\u001b[0m\n\u001b[0;32m-> 1043\u001b[0;31m             \u001b[0;32mif\u001b[0m \u001b[0mself\u001b[0m\u001b[0;34m.\u001b[0m\u001b[0mdispatch_one_batch\u001b[0m\u001b[0;34m(\u001b[0m\u001b[0miterator\u001b[0m\u001b[0;34m)\u001b[0m\u001b[0;34m:\u001b[0m\u001b[0;34m\u001b[0m\u001b[0;34m\u001b[0m\u001b[0m\n\u001b[0m\u001b[1;32m   1044\u001b[0m                 \u001b[0mself\u001b[0m\u001b[0;34m.\u001b[0m\u001b[0m_iterating\u001b[0m \u001b[0;34m=\u001b[0m \u001b[0mself\u001b[0m\u001b[0;34m.\u001b[0m\u001b[0m_original_iterator\u001b[0m \u001b[0;32mis\u001b[0m \u001b[0;32mnot\u001b[0m \u001b[0;32mNone\u001b[0m\u001b[0;34m\u001b[0m\u001b[0;34m\u001b[0m\u001b[0m\n\u001b[1;32m   1045\u001b[0m \u001b[0;34m\u001b[0m\u001b[0m\n",
            "\u001b[0;32m/usr/local/lib/python3.7/dist-packages/joblib/parallel.py\u001b[0m in \u001b[0;36mdispatch_one_batch\u001b[0;34m(self, iterator)\u001b[0m\n\u001b[1;32m    859\u001b[0m                 \u001b[0;32mreturn\u001b[0m \u001b[0;32mFalse\u001b[0m\u001b[0;34m\u001b[0m\u001b[0;34m\u001b[0m\u001b[0m\n\u001b[1;32m    860\u001b[0m             \u001b[0;32melse\u001b[0m\u001b[0;34m:\u001b[0m\u001b[0;34m\u001b[0m\u001b[0;34m\u001b[0m\u001b[0m\n\u001b[0;32m--> 861\u001b[0;31m                 \u001b[0mself\u001b[0m\u001b[0;34m.\u001b[0m\u001b[0m_dispatch\u001b[0m\u001b[0;34m(\u001b[0m\u001b[0mtasks\u001b[0m\u001b[0;34m)\u001b[0m\u001b[0;34m\u001b[0m\u001b[0;34m\u001b[0m\u001b[0m\n\u001b[0m\u001b[1;32m    862\u001b[0m                 \u001b[0;32mreturn\u001b[0m \u001b[0;32mTrue\u001b[0m\u001b[0;34m\u001b[0m\u001b[0;34m\u001b[0m\u001b[0m\n\u001b[1;32m    863\u001b[0m \u001b[0;34m\u001b[0m\u001b[0m\n",
            "\u001b[0;32m/usr/local/lib/python3.7/dist-packages/joblib/parallel.py\u001b[0m in \u001b[0;36m_dispatch\u001b[0;34m(self, batch)\u001b[0m\n\u001b[1;32m    777\u001b[0m         \u001b[0;32mwith\u001b[0m \u001b[0mself\u001b[0m\u001b[0;34m.\u001b[0m\u001b[0m_lock\u001b[0m\u001b[0;34m:\u001b[0m\u001b[0;34m\u001b[0m\u001b[0;34m\u001b[0m\u001b[0m\n\u001b[1;32m    778\u001b[0m             \u001b[0mjob_idx\u001b[0m \u001b[0;34m=\u001b[0m \u001b[0mlen\u001b[0m\u001b[0;34m(\u001b[0m\u001b[0mself\u001b[0m\u001b[0;34m.\u001b[0m\u001b[0m_jobs\u001b[0m\u001b[0;34m)\u001b[0m\u001b[0;34m\u001b[0m\u001b[0;34m\u001b[0m\u001b[0m\n\u001b[0;32m--> 779\u001b[0;31m             \u001b[0mjob\u001b[0m \u001b[0;34m=\u001b[0m \u001b[0mself\u001b[0m\u001b[0;34m.\u001b[0m\u001b[0m_backend\u001b[0m\u001b[0;34m.\u001b[0m\u001b[0mapply_async\u001b[0m\u001b[0;34m(\u001b[0m\u001b[0mbatch\u001b[0m\u001b[0;34m,\u001b[0m \u001b[0mcallback\u001b[0m\u001b[0;34m=\u001b[0m\u001b[0mcb\u001b[0m\u001b[0;34m)\u001b[0m\u001b[0;34m\u001b[0m\u001b[0;34m\u001b[0m\u001b[0m\n\u001b[0m\u001b[1;32m    780\u001b[0m             \u001b[0;31m# A job can complete so quickly than its callback is\u001b[0m\u001b[0;34m\u001b[0m\u001b[0;34m\u001b[0m\u001b[0;34m\u001b[0m\u001b[0m\n\u001b[1;32m    781\u001b[0m             \u001b[0;31m# called before we get here, causing self._jobs to\u001b[0m\u001b[0;34m\u001b[0m\u001b[0;34m\u001b[0m\u001b[0;34m\u001b[0m\u001b[0m\n",
            "\u001b[0;32m/usr/local/lib/python3.7/dist-packages/joblib/_parallel_backends.py\u001b[0m in \u001b[0;36mapply_async\u001b[0;34m(self, func, callback)\u001b[0m\n\u001b[1;32m    206\u001b[0m     \u001b[0;32mdef\u001b[0m \u001b[0mapply_async\u001b[0m\u001b[0;34m(\u001b[0m\u001b[0mself\u001b[0m\u001b[0;34m,\u001b[0m \u001b[0mfunc\u001b[0m\u001b[0;34m,\u001b[0m \u001b[0mcallback\u001b[0m\u001b[0;34m=\u001b[0m\u001b[0;32mNone\u001b[0m\u001b[0;34m)\u001b[0m\u001b[0;34m:\u001b[0m\u001b[0;34m\u001b[0m\u001b[0;34m\u001b[0m\u001b[0m\n\u001b[1;32m    207\u001b[0m         \u001b[0;34m\"\"\"Schedule a func to be run\"\"\"\u001b[0m\u001b[0;34m\u001b[0m\u001b[0;34m\u001b[0m\u001b[0m\n\u001b[0;32m--> 208\u001b[0;31m         \u001b[0mresult\u001b[0m \u001b[0;34m=\u001b[0m \u001b[0mImmediateResult\u001b[0m\u001b[0;34m(\u001b[0m\u001b[0mfunc\u001b[0m\u001b[0;34m)\u001b[0m\u001b[0;34m\u001b[0m\u001b[0;34m\u001b[0m\u001b[0m\n\u001b[0m\u001b[1;32m    209\u001b[0m         \u001b[0;32mif\u001b[0m \u001b[0mcallback\u001b[0m\u001b[0;34m:\u001b[0m\u001b[0;34m\u001b[0m\u001b[0;34m\u001b[0m\u001b[0m\n\u001b[1;32m    210\u001b[0m             \u001b[0mcallback\u001b[0m\u001b[0;34m(\u001b[0m\u001b[0mresult\u001b[0m\u001b[0;34m)\u001b[0m\u001b[0;34m\u001b[0m\u001b[0;34m\u001b[0m\u001b[0m\n",
            "\u001b[0;32m/usr/local/lib/python3.7/dist-packages/joblib/_parallel_backends.py\u001b[0m in \u001b[0;36m__init__\u001b[0;34m(self, batch)\u001b[0m\n\u001b[1;32m    570\u001b[0m         \u001b[0;31m# Don't delay the application, to avoid keeping the input\u001b[0m\u001b[0;34m\u001b[0m\u001b[0;34m\u001b[0m\u001b[0;34m\u001b[0m\u001b[0m\n\u001b[1;32m    571\u001b[0m         \u001b[0;31m# arguments in memory\u001b[0m\u001b[0;34m\u001b[0m\u001b[0;34m\u001b[0m\u001b[0;34m\u001b[0m\u001b[0m\n\u001b[0;32m--> 572\u001b[0;31m         \u001b[0mself\u001b[0m\u001b[0;34m.\u001b[0m\u001b[0mresults\u001b[0m \u001b[0;34m=\u001b[0m \u001b[0mbatch\u001b[0m\u001b[0;34m(\u001b[0m\u001b[0;34m)\u001b[0m\u001b[0;34m\u001b[0m\u001b[0;34m\u001b[0m\u001b[0m\n\u001b[0m\u001b[1;32m    573\u001b[0m \u001b[0;34m\u001b[0m\u001b[0m\n\u001b[1;32m    574\u001b[0m     \u001b[0;32mdef\u001b[0m \u001b[0mget\u001b[0m\u001b[0;34m(\u001b[0m\u001b[0mself\u001b[0m\u001b[0;34m)\u001b[0m\u001b[0;34m:\u001b[0m\u001b[0;34m\u001b[0m\u001b[0;34m\u001b[0m\u001b[0m\n",
            "\u001b[0;32m/usr/local/lib/python3.7/dist-packages/joblib/parallel.py\u001b[0m in \u001b[0;36m__call__\u001b[0;34m(self)\u001b[0m\n\u001b[1;32m    261\u001b[0m         \u001b[0;32mwith\u001b[0m \u001b[0mparallel_backend\u001b[0m\u001b[0;34m(\u001b[0m\u001b[0mself\u001b[0m\u001b[0;34m.\u001b[0m\u001b[0m_backend\u001b[0m\u001b[0;34m,\u001b[0m \u001b[0mn_jobs\u001b[0m\u001b[0;34m=\u001b[0m\u001b[0mself\u001b[0m\u001b[0;34m.\u001b[0m\u001b[0m_n_jobs\u001b[0m\u001b[0;34m)\u001b[0m\u001b[0;34m:\u001b[0m\u001b[0;34m\u001b[0m\u001b[0;34m\u001b[0m\u001b[0m\n\u001b[1;32m    262\u001b[0m             return [func(*args, **kwargs)\n\u001b[0;32m--> 263\u001b[0;31m                     for func, args, kwargs in self.items]\n\u001b[0m\u001b[1;32m    264\u001b[0m \u001b[0;34m\u001b[0m\u001b[0m\n\u001b[1;32m    265\u001b[0m     \u001b[0;32mdef\u001b[0m \u001b[0m__reduce__\u001b[0m\u001b[0;34m(\u001b[0m\u001b[0mself\u001b[0m\u001b[0;34m)\u001b[0m\u001b[0;34m:\u001b[0m\u001b[0;34m\u001b[0m\u001b[0;34m\u001b[0m\u001b[0m\n",
            "\u001b[0;32m/usr/local/lib/python3.7/dist-packages/joblib/parallel.py\u001b[0m in \u001b[0;36m<listcomp>\u001b[0;34m(.0)\u001b[0m\n\u001b[1;32m    261\u001b[0m         \u001b[0;32mwith\u001b[0m \u001b[0mparallel_backend\u001b[0m\u001b[0;34m(\u001b[0m\u001b[0mself\u001b[0m\u001b[0;34m.\u001b[0m\u001b[0m_backend\u001b[0m\u001b[0;34m,\u001b[0m \u001b[0mn_jobs\u001b[0m\u001b[0;34m=\u001b[0m\u001b[0mself\u001b[0m\u001b[0;34m.\u001b[0m\u001b[0m_n_jobs\u001b[0m\u001b[0;34m)\u001b[0m\u001b[0;34m:\u001b[0m\u001b[0;34m\u001b[0m\u001b[0;34m\u001b[0m\u001b[0m\n\u001b[1;32m    262\u001b[0m             return [func(*args, **kwargs)\n\u001b[0;32m--> 263\u001b[0;31m                     for func, args, kwargs in self.items]\n\u001b[0m\u001b[1;32m    264\u001b[0m \u001b[0;34m\u001b[0m\u001b[0m\n\u001b[1;32m    265\u001b[0m     \u001b[0;32mdef\u001b[0m \u001b[0m__reduce__\u001b[0m\u001b[0;34m(\u001b[0m\u001b[0mself\u001b[0m\u001b[0;34m)\u001b[0m\u001b[0;34m:\u001b[0m\u001b[0;34m\u001b[0m\u001b[0;34m\u001b[0m\u001b[0m\n",
            "\u001b[0;32m/usr/local/lib/python3.7/dist-packages/sklearn/utils/fixes.py\u001b[0m in \u001b[0;36m__call__\u001b[0;34m(self, *args, **kwargs)\u001b[0m\n\u001b[1;32m    214\u001b[0m     \u001b[0;32mdef\u001b[0m \u001b[0m__call__\u001b[0m\u001b[0;34m(\u001b[0m\u001b[0mself\u001b[0m\u001b[0;34m,\u001b[0m \u001b[0;34m*\u001b[0m\u001b[0margs\u001b[0m\u001b[0;34m,\u001b[0m \u001b[0;34m**\u001b[0m\u001b[0mkwargs\u001b[0m\u001b[0;34m)\u001b[0m\u001b[0;34m:\u001b[0m\u001b[0;34m\u001b[0m\u001b[0;34m\u001b[0m\u001b[0m\n\u001b[1;32m    215\u001b[0m         \u001b[0;32mwith\u001b[0m \u001b[0mconfig_context\u001b[0m\u001b[0;34m(\u001b[0m\u001b[0;34m**\u001b[0m\u001b[0mself\u001b[0m\u001b[0;34m.\u001b[0m\u001b[0mconfig\u001b[0m\u001b[0;34m)\u001b[0m\u001b[0;34m:\u001b[0m\u001b[0;34m\u001b[0m\u001b[0;34m\u001b[0m\u001b[0m\n\u001b[0;32m--> 216\u001b[0;31m             \u001b[0;32mreturn\u001b[0m \u001b[0mself\u001b[0m\u001b[0;34m.\u001b[0m\u001b[0mfunction\u001b[0m\u001b[0;34m(\u001b[0m\u001b[0;34m*\u001b[0m\u001b[0margs\u001b[0m\u001b[0;34m,\u001b[0m \u001b[0;34m**\u001b[0m\u001b[0mkwargs\u001b[0m\u001b[0;34m)\u001b[0m\u001b[0;34m\u001b[0m\u001b[0;34m\u001b[0m\u001b[0m\n\u001b[0m\u001b[1;32m    217\u001b[0m \u001b[0;34m\u001b[0m\u001b[0m\n\u001b[1;32m    218\u001b[0m \u001b[0;34m\u001b[0m\u001b[0m\n",
            "\u001b[0;32m/usr/local/lib/python3.7/dist-packages/sklearn/neighbors/_base.py\u001b[0m in \u001b[0;36m_tree_query_parallel_helper\u001b[0;34m(tree, *args, **kwargs)\u001b[0m\n\u001b[1;32m    598\u001b[0m     \u001b[0munder\u001b[0m \u001b[0mPyPy\u001b[0m\u001b[0;34m.\u001b[0m\u001b[0;34m\u001b[0m\u001b[0;34m\u001b[0m\u001b[0m\n\u001b[1;32m    599\u001b[0m     \"\"\"\n\u001b[0;32m--> 600\u001b[0;31m     \u001b[0;32mreturn\u001b[0m \u001b[0mtree\u001b[0m\u001b[0;34m.\u001b[0m\u001b[0mquery\u001b[0m\u001b[0;34m(\u001b[0m\u001b[0;34m*\u001b[0m\u001b[0margs\u001b[0m\u001b[0;34m,\u001b[0m \u001b[0;34m**\u001b[0m\u001b[0mkwargs\u001b[0m\u001b[0;34m)\u001b[0m\u001b[0;34m\u001b[0m\u001b[0;34m\u001b[0m\u001b[0m\n\u001b[0m\u001b[1;32m    601\u001b[0m \u001b[0;34m\u001b[0m\u001b[0m\n\u001b[1;32m    602\u001b[0m \u001b[0;34m\u001b[0m\u001b[0m\n",
            "\u001b[0;31mKeyboardInterrupt\u001b[0m: "
          ]
        }
      ]
    },
    {
      "cell_type": "code",
      "source": [
        "plt.plot(num_neighbors, test_accuracies)\n",
        "plt.title(r\"Plot of $n$ vs test accuracy\")\n",
        "# plt.savefig(\"kmeans_normalzied.png\")\n",
        "plt.show()"
      ],
      "metadata": {
        "colab": {
          "base_uri": "https://localhost:8080/",
          "height": 283
        },
        "id": "En0LZsc7E7vw",
        "outputId": "da736b03-9a38-49d8-8274-80fb7ee00cef"
      },
      "execution_count": null,
      "outputs": [
        {
          "output_type": "display_data",
          "data": {
            "text/plain": [
              "<Figure size 432x288 with 1 Axes>"
            ],
            "image/png": "[encoded data removed]"
          },
          "metadata": {
            "needs_background": "light"
          }
        }
      ]
    },
    {
      "cell_type": "markdown",
      "source": [
        "Obviously this is not optimal, by excluding all non-ordinal variables we are potentially overlooking a lot of useful information about the patients. We will further process the data by first converting everything into a massive stack of onehot encodings, each element of the stack corresponds to a non-numeric label. Then, by using PCA we can try to reduce the dimensionality of this entire stack so that we can still run KNN efficiently."
      ],
      "metadata": {
        "id": "E1xOzxOg39ZS"
      }
    },
    {
      "cell_type": "markdown",
      "source": [
        "### With all features"
      ],
      "metadata": {
        "id": "i4L2uG_OTRDv"
      }
    },
    {
      "cell_type": "code",
      "source": [
        "from sklearn.preprocessing import OneHotEncoder\n",
        "#replace all labels that are already binary with simple binary labels\n",
        "# for col, vals in possible_values.items():\n",
        "#   if (len(vals) == 2):\n",
        "#     i = 0\n",
        "#     for val in vals:\n",
        "#       full_dataset[col].replace(val, i, inplace=True)\n",
        "#       i+=1\n",
        "# possible_values = get_possible_values(full_dataset, verbose=False)\n",
        "\n",
        "#standardize all numerical values of full_dataset\n",
        "enc = OneHotEncoder()\n",
        "enc.fit(full_dataset[[\"race\", \"gender\", \"admission_type_id\", \"discharge_disposition_id\", \n",
        "              \"admission_source_id\", \"diag_1\", \"diag_2\", \"diag_3\",\n",
        "              \"max_glu_serum\", \"A1Cresult\", \"metformin\", \"repaglinide\",\n",
        "              \"nateglinide\", 'chlorpropamide',\n",
        "       'glimepiride', 'acetohexamide', 'glipizide', 'glyburide', 'tolbutamide',\n",
        "       'pioglitazone', 'rosiglitazone', 'acarbose', 'miglitol', 'troglitazone',\n",
        "       'tolazamide', 'insulin', 'glyburide-metformin', 'glipizide-metformin',\n",
        "       'glimepiride-pioglitazone', 'metformin-rosiglitazone',\n",
        "       'metformin-pioglitazone', 'change', 'diabetesMed']])\n",
        "\n",
        "train, test = np.split(full_dataset.sample(frac=1, random_state=42), [int(.8*len(full_dataset))])\n",
        "X_train = train[[\"age\", \"time_in_hospital\", \"num_lab_procedures\", \"num_procedures\", \n",
        "                  \"num_medications\", \"number_outpatient\", \"number_emergency\", \n",
        "                  \"number_inpatient\", \"number_diagnoses\"]]\n",
        "X_test = test[[\"age\", \"time_in_hospital\", \"num_lab_procedures\", \"num_procedures\", \n",
        "                  \"num_medications\", \"number_outpatient\", \"number_emergency\", \n",
        "                  \"number_inpatient\", \"number_diagnoses\"]]\n",
        "y_train = train[\"readmitted\"]\n",
        "y_test = test[\"readmitted\"]\n",
        "X_train = (X_train - X_train.mean()) / X_train.std()\n",
        "X_test = (X_test - X_test.mean()) / X_test.std()\n",
        "\n",
        "one_hot_train = enc.transform(train[[\"race\", \"gender\", \"admission_type_id\", \"discharge_disposition_id\", \n",
        "              \"admission_source_id\", \"diag_1\", \"diag_2\", \"diag_3\",\n",
        "              \"max_glu_serum\", \"A1Cresult\", \"metformin\", \"repaglinide\",\n",
        "              \"nateglinide\", 'chlorpropamide',\n",
        "       'glimepiride', 'acetohexamide', 'glipizide', 'glyburide', 'tolbutamide',\n",
        "       'pioglitazone', 'rosiglitazone', 'acarbose', 'miglitol', 'troglitazone',\n",
        "       'tolazamide', 'insulin', 'glyburide-metformin', 'glipizide-metformin',\n",
        "       'glimepiride-pioglitazone', 'metformin-rosiglitazone',\n",
        "       'metformin-pioglitazone', 'change', 'diabetesMed']])\n",
        "print(one_hot_train.shape)\n",
        "one_hot_test = enc.transform(test[[\"race\", \"gender\", \"admission_type_id\", \"discharge_disposition_id\", \n",
        "              \"admission_source_id\", \"diag_1\", \"diag_2\", \"diag_3\",\n",
        "              \"max_glu_serum\", \"A1Cresult\", \"metformin\", \"repaglinide\",\n",
        "              \"nateglinide\", 'chlorpropamide',\n",
        "       'glimepiride', 'acetohexamide', 'glipizide', 'glyburide', 'tolbutamide',\n",
        "       'pioglitazone', 'rosiglitazone', 'acarbose', 'miglitol', 'troglitazone',\n",
        "       'tolazamide', 'insulin', 'glyburide-metformin', 'glipizide-metformin',\n",
        "       'glimepiride-pioglitazone', 'metformin-rosiglitazone',\n",
        "       'metformin-pioglitazone', 'change', 'diabetesMed']])\n",
        "\n",
        "X_train = pd.concat([X_train.reset_index(drop=True), (2 * pd.DataFrame(one_hot_train.toarray()) - 1).reset_index(drop=True)], axis = 1)\n",
        "X_test = pd.concat([X_test.reset_index(drop=True), (2 * pd.DataFrame(one_hot_test.toarray()) - 1).reset_index(drop=True)], axis = 1)\n"
      ],
      "metadata": {
        "colab": {
          "base_uri": "https://localhost:8080/"
        },
        "id": "RajYLIkyD81E",
        "outputId": "089eb7a8-b7f4-40cf-9bcb-6e9d51c64e75"
      },
      "execution_count": 7,
      "outputs": [
        {
          "output_type": "stream",
          "name": "stdout",
          "text": [
            "(78441, 2377)\n"
          ]
        }
      ]
    },
    {
      "cell_type": "markdown",
      "source": [
        "Now, we run PCA on data."
      ],
      "metadata": {
        "id": "8jdXXNSOyiOh"
      }
    },
    {
      "cell_type": "code",
      "source": [
        "#calculate the correlation matrix\n",
        "train_array = X_train.to_numpy()\n",
        "corr = (train_array.T @ train_array) / (train_array.shape[0] - 1)\n",
        "del(train_array)\n",
        "print(corr)\n",
        "from scipy import linalg\n",
        "w,v = linalg.eigh(corr)\n",
        "plt.clf()\n",
        "plt.hist(w, bins=50, range=(0.1, 5))\n",
        "plt.show()  "
      ],
      "metadata": {
        "colab": {
          "base_uri": "https://localhost:8080/",
          "height": 491
        },
        "id": "VDkG2E-IwGXk",
        "outputId": "b39ce4f4-1999-4e92-daed-3d5b42276297"
      },
      "execution_count": 8,
      "outputs": [
        {
          "output_type": "stream",
          "name": "stdout",
          "text": [
            "[[ 1.          0.09656601  0.01764677 ...  0.04199294  0.01779385\n",
            "  -0.01779385]\n",
            " [ 0.09656601  1.          0.31685294 ... -0.10706029 -0.05292587\n",
            "   0.05292587]\n",
            " [ 0.01764677  0.31685294  1.         ... -0.0622863  -0.02654492\n",
            "   0.02654492]\n",
            " ...\n",
            " [ 0.04199294 -0.10706029 -0.0622863  ...  1.00001275  0.38458695\n",
            "  -0.38458695]\n",
            " [ 0.01779385 -0.05292587 -0.02654492 ...  0.38458695  1.00001275\n",
            "  -1.00001275]\n",
            " [-0.01779385  0.05292587  0.02654492 ... -0.38458695 -1.00001275\n",
            "   1.00001275]]\n"
          ]
        },
        {
          "output_type": "display_data",
          "data": {
            "text/plain": [
              "<Figure size 432x288 with 1 Axes>"
            ],
            "image/png": "[encoded data removed]"
          },
          "metadata": {
            "needs_background": "light"
          }
        }
      ]
    },
    {
      "cell_type": "code",
      "source": [
        "#Try to figure out what the top 5 principle axes are.\n",
        "\n",
        "top5v, top5w = (v[:,-5:])[:,::-1], w[-5:][::-1]\n",
        "print(top5v.shape)\n",
        "print(top5w)\n",
        "plt.matshow(np.abs(v[:,-5:]),aspect='auto', cmap=plt.cm.Reds)\n",
        "fig = plt.gcf()\n",
        "fig.set_size_inches(6,6)\n",
        "plt.xlabel(\"Eigenvector absolute value (sorted lowest to highest eigenvalue)\")\n",
        "plt.ylabel(\"Components of full one-hot feature vector\")\n",
        "plt.title(\"Plot of top 5 eigenvectors\")\n",
        "plt.colorbar()\n",
        "plt.savefig('PCA_eigmatshow5.png')\n",
        "plt.show()"
      ],
      "metadata": {
        "colab": {
          "base_uri": "https://localhost:8080/",
          "height": 464
        },
        "id": "68nxcvC1w9c4",
        "outputId": "2c229832-fe55-463b-952a-a7b427ec8912"
      },
      "execution_count": 75,
      "outputs": [
        {
          "output_type": "stream",
          "name": "stdout",
          "text": [
            "(2386, 5)\n",
            "[2.34222184e+03 3.67596741e+00 2.86142095e+00 2.24384328e+00\n",
            " 2.01083818e+00]\n"
          ]
        },
        {
          "output_type": "display_data",
          "data": {
            "text/plain": [
              "<Figure size 432x432 with 2 Axes>"
            ],
            "image/png": "[encoded data removed]"
          },
          "metadata": {
            "needs_background": "light"
          }
        }
      ]
    },
    {
      "cell_type": "code",
      "source": [
        ""
      ],
      "metadata": {
        "colab": {
          "base_uri": "https://localhost:8080/"
        },
        "id": "M9DF-zuSA6H_",
        "outputId": "7daae7ee-76f4-4ef8-958d-440dcea84160"
      },
      "execution_count": 110,
      "outputs": [
        {
          "output_type": "stream",
          "name": "stdout",
          "text": [
            "['race_AfricanAmerican' 'race_Asian' 'race_Caucasian' ... 'change_No'\n",
            " 'diabetesMed_No' 'diabetesMed_Yes']\n"
          ]
        }
      ]
    },
    {
      "cell_type": "code",
      "source": [
        "feature_names = enc.get_feature_names_out()\n",
        "print(top5v[:,3])\n",
        "for j in range(5):\n",
        "  print(\"vector number \" + str(j) + \":\")\n",
        "  print(\"-----------------------------\")\n",
        "  for i, val in enumerate(top5v[:,j]):\n",
        "    if (np.abs(val) > 0.1):\n",
        "      if(type(X_train.columns[i]) is int):\n",
        "        print(feature_names[X_train.columns[i]] + \" with val \" + str(val))\n",
        "      else:\n",
        "        print(str(X_train.columns[i]) + \" with val \" + str(val))\n",
        "  print(\"\\n\")\n",
        "print(np.std(top5v[:,0]))\n"
      ],
      "metadata": {
        "colab": {
          "base_uri": "https://localhost:8080/"
        },
        "id": "XhzRMS3cyXE9",
        "outputId": "c79f5a60-c93b-49d5-aed9-5caa4f0fc992"
      },
      "execution_count": 112,
      "outputs": [
        {
          "output_type": "stream",
          "name": "stdout",
          "text": [
            "[-0.26969442 -0.41129866 -0.20927279 ... -0.08685838 -0.11014279\n",
            "  0.11014279]\n",
            "vector number 0:\n",
            "-----------------------------\n",
            "\n",
            "\n",
            "vector number 1:\n",
            "-----------------------------\n",
            "time_in_hospital with val -0.13943541357654413\n",
            "num_medications with val -0.23077410781429242\n",
            "metformin_No with val 0.14181043810485042\n",
            "metformin_Steady with val -0.12672687451885553\n",
            "insulin_Down with val -0.12396684692417416\n",
            "insulin_No with val 0.3799918536214074\n",
            "insulin_Steady with val -0.13786387809307118\n",
            "insulin_Up with val -0.11759804268172654\n",
            "change_Ch with val -0.45021923375116374\n",
            "change_No with val 0.4502192337511638\n",
            "diabetesMed_No with val 0.34470569287897596\n",
            "diabetesMed_Yes with val -0.344705692878976\n",
            "\n",
            "\n",
            "vector number 2:\n",
            "-----------------------------\n",
            "num_lab_procedures with val -0.22877210866101924\n",
            "num_procedures with val 0.19160227383783268\n",
            "number_diagnoses with val -0.1376792096003468\n",
            "admission_type_id_1 with val -0.5022447672224075\n",
            "admission_type_id_2 with val 0.13621086688643855\n",
            "admission_type_id_3 with val 0.29993625844185756\n",
            "admission_source_id_1 with val 0.43442562548343744\n",
            "admission_source_id_7 with val -0.5092374164911868\n",
            "\n",
            "\n",
            "vector number 3:\n",
            "-----------------------------\n",
            "age with val -0.26969442407973704\n",
            "time_in_hospital with val -0.41129865905014107\n",
            "num_lab_procedures with val -0.20927278886175393\n",
            "num_procedures with val -0.21582220124126533\n",
            "num_medications with val -0.3727600653554263\n",
            "number_diagnoses with val -0.32102342597941713\n",
            "race_Caucasian with val -0.11522627986066108\n",
            "gender_Female with val -0.19327992019033377\n",
            "gender_Male with val 0.19327992019033416\n",
            "discharge_disposition_id_1 with val 0.3703348378217046\n",
            "discharge_disposition_id_3 with val -0.16786450245892853\n",
            "discharge_disposition_id_6 with val -0.12206519399183201\n",
            "metformin_No with val -0.12929100122909443\n",
            "metformin_Steady with val 0.12412847649412326\n",
            "diabetesMed_No with val -0.1101427871109597\n",
            "diabetesMed_Yes with val 0.11014278711095978\n",
            "\n",
            "\n",
            "vector number 4:\n",
            "-----------------------------\n",
            "time_in_hospital with val 0.11068089647155024\n",
            "num_lab_procedures with val 0.12804400598439\n",
            "num_procedures with val 0.1510840851764643\n",
            "num_medications with val 0.1104855031788718\n",
            "number_diagnoses with val 0.12806981673806309\n",
            "race_AfricanAmerican with val -0.10583803930823221\n",
            "race_Caucasian with val 0.11294055398434166\n",
            "gender_Female with val -0.6565110599810229\n",
            "gender_Male with val 0.6565110599810227\n",
            "\n",
            "\n",
            "0.0043105491889494805\n"
          ]
        }
      ]
    },
    {
      "cell_type": "markdown",
      "source": [
        "Further analysis of first eigenvector shows that it is pretty much just +/- some constant, in particular 0.0206 for every component. This is to be expected considering after standardizing  each one hot datapoint we end up with vectors that are for the most part just 1s and -1s. This eigenvector accounts is representative of that fact because it is itself mostly a bunch of 1s and -1s scaled by some constant which normalizes it. The other eigenvectors are more interesting."
      ],
      "metadata": {
        "id": "U33z2i-k688V"
      }
    },
    {
      "cell_type": "code",
      "source": [
        "# for i, val in enumerate(top5v[:,0]):\n",
        "#     if (np.abs(val) > 0.02):\n",
        "#       print(str(X_train.columns[i]) + \" with val \" + str(val))\n",
        "print(np.std(top5v[:,0]))\n",
        "print(np.linalg.norm(top5v[:,0]))"
      ],
      "metadata": {
        "colab": {
          "base_uri": "https://localhost:8080/"
        },
        "id": "zLDVGXbs6-cU",
        "outputId": "1ad1e7da-4c00-4723-e68c-e2627a0489cc"
      },
      "execution_count": 107,
      "outputs": [
        {
          "output_type": "stream",
          "name": "stdout",
          "text": [
            "0.0043105491889494805\n",
            "0.9999999999999999\n"
          ]
        }
      ]
    },
    {
      "cell_type": "code",
      "source": [
        "# print(w[-1])\n",
        "# print(v[-1])\n",
        "# print(v.shape)\n",
        "# inds = np.argsort(v[-1])\n",
        "# print(inds)\n",
        "# insight_vector = np.zeros(v.shape[0])\n",
        "# for i in range(7):\n",
        "#   print(v[-1][inds[i]])\n",
        "#   print(inds[i])\n",
        "#   insight_vector[inds[i]] = 1\n",
        "# for i in range(1, 9):\n",
        "#   print(v[-1][inds[-i]])\n",
        "#   print(inds[-i])\n",
        "#   # insight_vector[inds[-i]] = \n",
        "# enc.inverse_transform(insight_vector.reshape(1,-1))"
      ],
      "metadata": {
        "id": "Zs9mjeJH1a4H"
      },
      "execution_count": null,
      "outputs": []
    },
    {
      "cell_type": "code",
      "source": [
        "transform_mat = v[w > 0.1]\n",
        "print(transform_mat.shape)\n",
        "processed_X_train = X_train @ transform_mat.T\n",
        "print(processed_X_train.shape)\n",
        "processed_X_test = X_test @ transform_mat.T\n",
        "print(processed_X_test.shape)"
      ],
      "metadata": {
        "colab": {
          "base_uri": "https://localhost:8080/"
        },
        "id": "oiI_J823-2Rt",
        "outputId": "3cd23aca-107c-49e5-eced-1290091418a2"
      },
      "execution_count": null,
      "outputs": [
        {
          "output_type": "stream",
          "name": "stdout",
          "text": [
            "(60, 2386)\n",
            "(78441, 60)\n",
            "(19611, 60)\n"
          ]
        }
      ]
    },
    {
      "cell_type": "code",
      "source": [
        "from sklearn.neighbors import KNeighborsClassifier\n",
        "\n",
        "num_neighbors = range(1,30)\n",
        "test_accuracies = []\n",
        "for num in num_neighbors:\n",
        "  print(num)\n",
        "  classifier = KNeighborsClassifier(num)\n",
        "  classifier.fit(processed_X_train, y_train)\n",
        "  predicted = classifier.predict(processed_X_test)\n",
        "  count = np.count_nonzero(y_test==predicted)\n",
        "  test_accuracies.append(count / len(y_test))\n",
        "  print(count/len(y_test))\n",
        "np.save(\"KNN_normalized_full_pca\", test_accuracies)\n",
        "plt.clf()\n",
        "plt.plot(num_neighbors, test_accuracies, label=r\"Plot of test accuracy vs $n$ for full PCA reduced features\")\n",
        "plt.savefig(\"KNN_normalized_full_pca.png\")"
      ],
      "metadata": {
        "colab": {
          "base_uri": "https://localhost:8080/",
          "height": 1000
        },
        "id": "wkVpXnxOBYJr",
        "outputId": "42415cfc-5ee8-4ccf-be5d-f14a7456054f"
      },
      "execution_count": null,
      "outputs": [
        {
          "output_type": "stream",
          "name": "stdout",
          "text": [
            "1\n",
            "0.4737647238794554\n",
            "2\n",
            "0.41135077252562335\n",
            "3\n",
            "0.47845596858905715\n",
            "4\n",
            "0.49247871092754064\n",
            "5\n",
            "0.5029320279435011\n",
            "6\n",
            "0.5080821987659987\n",
            "7\n",
            "0.5238896537657437\n",
            "8\n",
            "0.5241956045076742\n",
            "9\n",
            "0.5311304879914334\n",
            "10\n",
            "0.5325072663301208\n",
            "11\n",
            "0.5360766916526439\n",
            "12\n",
            "0.5380143796848708\n",
            "13\n",
            "0.5425526490235072\n",
            "14\n",
            "0.5437254602009076\n",
            "15\n",
            "0.5453062057008822\n",
            "16\n",
            "0.5469889347815001\n",
            "17\n",
            "0.5479577787976135\n",
            "18\n",
            "0.5490286063943705\n",
            "19\n",
            "0.5501504257814492\n",
            "20\n",
            "0.5500484422008056\n",
            "21\n",
            "0.5514252205394932\n",
            "22\n",
            "0.5522410891846413\n",
            "23\n",
            "0.5551986130233032\n",
            "24\n",
            "0.554178777216868\n",
            "25\n",
            "0.5549946458620162\n",
            "26\n",
            "0.5553515883942686\n",
            "27\n",
            "0.5570343174748865\n",
            "28\n",
            "0.5547906787007292\n",
            "29\n",
            "0.5562184488297384\n"
          ]
        },
        {
          "output_type": "display_data",
          "data": {
            "text/plain": [
              "<Figure size 432x288 with 1 Axes>"
            ],
            "image/png": "[encoded data removed]"
          },
          "metadata": {
            "needs_background": "light"
          }
        }
      ]
    },
    {
      "cell_type": "code",
      "source": [
        "def genKNNGraph():\n",
        "  unnormalized = np.load(\"KNN_unnormalized_only_ordinal.npy\")\n",
        "  full_pca = np.load(\"KNN_normalized_full_pca.npy\")\n",
        "  normalized = np.load(\"KNN_normalized_only_ordinal.npy\")\n",
        "  xvals = range(1, 30)\n",
        "  plt.clf()\n",
        "  plt.plot(xvals, unnormalized*100, label=\"Unnormalized, only numbers\")\n",
        "  plt.plot(xvals, full_pca*100, label=\"Normalized, all features\")\n",
        "  plt.plot(xvals, normalized*100, label=\"Normalized, only numbers\")\n",
        "  plt.legend()\n",
        "  plt.ylabel(\"Validation set accuracy (%)\")\n",
        "  plt.xlabel(r\"$k$\")\n",
        "  plt.title(r\"Plot of validation accuracy vs $k$ for different data preprocessings\")\n",
        "  plt.savefig(\"figure1.png\")\n",
        "genKNNGraph()"
      ],
      "metadata": {
        "colab": {
          "base_uri": "https://localhost:8080/",
          "height": 323
        },
        "id": "sm5L-oQAvohQ",
        "outputId": "e2f17452-1bc9-4249-c8b3-d963688426c2"
      },
      "execution_count": null,
      "outputs": [
        {
          "output_type": "error",
          "ename": "NameError",
          "evalue": "ignored",
          "traceback": [
            "\u001b[0;31m---------------------------------------------------------------------------\u001b[0m",
            "\u001b[0;31mNameError\u001b[0m                                 Traceback (most recent call last)",
            "\u001b[0;32m<ipython-input-1-fd45bce8b103>\u001b[0m in \u001b[0;36m<module>\u001b[0;34m()\u001b[0m\n\u001b[1;32m     13\u001b[0m   \u001b[0mplt\u001b[0m\u001b[0;34m.\u001b[0m\u001b[0mtitle\u001b[0m\u001b[0;34m(\u001b[0m\u001b[0;34mr\"Plot of validation accuracy vs $k$ for different data preprocessings\"\u001b[0m\u001b[0;34m)\u001b[0m\u001b[0;34m\u001b[0m\u001b[0;34m\u001b[0m\u001b[0m\n\u001b[1;32m     14\u001b[0m   \u001b[0mplt\u001b[0m\u001b[0;34m.\u001b[0m\u001b[0msavefig\u001b[0m\u001b[0;34m(\u001b[0m\u001b[0;34m\"figure1.png\"\u001b[0m\u001b[0;34m)\u001b[0m\u001b[0;34m\u001b[0m\u001b[0;34m\u001b[0m\u001b[0m\n\u001b[0;32m---> 15\u001b[0;31m \u001b[0mgenKNNGraph\u001b[0m\u001b[0;34m(\u001b[0m\u001b[0;34m)\u001b[0m\u001b[0;34m\u001b[0m\u001b[0;34m\u001b[0m\u001b[0m\n\u001b[0m",
            "\u001b[0;32m<ipython-input-1-fd45bce8b103>\u001b[0m in \u001b[0;36mgenKNNGraph\u001b[0;34m()\u001b[0m\n\u001b[1;32m      1\u001b[0m \u001b[0;32mdef\u001b[0m \u001b[0mgenKNNGraph\u001b[0m\u001b[0;34m(\u001b[0m\u001b[0;34m)\u001b[0m\u001b[0;34m:\u001b[0m\u001b[0;34m\u001b[0m\u001b[0;34m\u001b[0m\u001b[0m\n\u001b[0;32m----> 2\u001b[0;31m   \u001b[0munnormalized\u001b[0m \u001b[0;34m=\u001b[0m \u001b[0mnp\u001b[0m\u001b[0;34m.\u001b[0m\u001b[0mload\u001b[0m\u001b[0;34m(\u001b[0m\u001b[0;34m\"KNN_unnormalized_only_ordinal.npy\"\u001b[0m\u001b[0;34m)\u001b[0m\u001b[0;34m\u001b[0m\u001b[0;34m\u001b[0m\u001b[0m\n\u001b[0m\u001b[1;32m      3\u001b[0m   \u001b[0mfull_pca\u001b[0m \u001b[0;34m=\u001b[0m \u001b[0mnp\u001b[0m\u001b[0;34m.\u001b[0m\u001b[0mload\u001b[0m\u001b[0;34m(\u001b[0m\u001b[0;34m\"KNN_normalized_full_pca.npy\"\u001b[0m\u001b[0;34m)\u001b[0m\u001b[0;34m\u001b[0m\u001b[0;34m\u001b[0m\u001b[0m\n\u001b[1;32m      4\u001b[0m   \u001b[0mnormalized\u001b[0m \u001b[0;34m=\u001b[0m \u001b[0mnp\u001b[0m\u001b[0;34m.\u001b[0m\u001b[0mload\u001b[0m\u001b[0;34m(\u001b[0m\u001b[0;34m\"KNN_normalized_only_ordinal.npy\"\u001b[0m\u001b[0;34m)\u001b[0m\u001b[0;34m\u001b[0m\u001b[0;34m\u001b[0m\u001b[0m\n\u001b[1;32m      5\u001b[0m   \u001b[0mxvals\u001b[0m \u001b[0;34m=\u001b[0m \u001b[0mrange\u001b[0m\u001b[0;34m(\u001b[0m\u001b[0;36m1\u001b[0m\u001b[0;34m,\u001b[0m \u001b[0;36m30\u001b[0m\u001b[0;34m)\u001b[0m\u001b[0;34m\u001b[0m\u001b[0;34m\u001b[0m\u001b[0m\n",
            "\u001b[0;31mNameError\u001b[0m: name 'np' is not defined"
          ]
        }
      ]
    },
    {
      "cell_type": "markdown",
      "source": [
        "## GLM\n",
        "\n",
        "Next I will try exploring some generalized linear models. We can pretty much just use the preprocessed data from the KNN again here. The data has already been standardized. The only issue is that regular GLMs assume "
      ],
      "metadata": {
        "id": "bzKzE1KDyrlV"
      }
    },
    {
      "cell_type": "code",
      "source": [
        "processed_data = {'train_X': processed_X_train, 'train_Y': y_train, \n",
        "                  'test_X': processed_X_test, 'test_Y': y_test}\n",
        "np.save(\"processed_data\", processed_data)"
      ],
      "metadata": {
        "id": "13Wb1MSb6H4A"
      },
      "execution_count": null,
      "outputs": []
    },
    {
      "cell_type": "code",
      "source": [
        "processed_data = np.load(\"processed_data.npy\", allow_pickle=True).item()\n",
        "processed_X_train, y_train, processed_X_test, y_test = processed_data['train_X'], processed_data['train_Y'], processed_data['test_X'], processed_data['test_Y']\n",
        "print(processed_X_train.shape)\n",
        "print(processed_X_test.shape)"
      ],
      "metadata": {
        "id": "1djaz7M4b4TW",
        "colab": {
          "base_uri": "https://localhost:8080/"
        },
        "outputId": "26c3ac65-2b0b-4183-fd05-5e7b3c1bf911"
      },
      "execution_count": 66,
      "outputs": [
        {
          "output_type": "stream",
          "name": "stdout",
          "text": [
            "(78441, 60)\n",
            "(19611, 60)\n"
          ]
        }
      ]
    },
    {
      "cell_type": "code",
      "source": [
        "#logistic regression\n",
        "y_train_simple = y_train.replace(\"NO\", 0, inplace=False)\n",
        "y_train_simple.replace(\">30\", 1, inplace=True)\n",
        "y_train_simple.replace(\"<30\", 1, inplace=True)\n",
        "y_test_simple = y_test.replace(\"NO\", 0, inplace=False)\n",
        "y_test_simple.replace(\">30\", 1, inplace=True)\n",
        "y_test_simple.replace(\"<30\", 1, inplace=True)\n",
        "\n",
        "classifier = KNeighborsClassifier(30)\n",
        "classifier.fit(processed_X_train, y_train_simple)\n",
        "predicted = classifier.predict(processed_X_test)\n",
        "count = np.count_nonzero(y_test_simple==predicted)\n",
        "print(count / len(predicted))\n",
        "\n",
        "from sklearn.linear_model import LogisticRegression\n",
        "\n",
        "classifier = LogisticRegression(max_iter=1000, solver='sag')\n",
        "\n",
        "classifier.fit(processed_X_train, y_train_simple)\n",
        "\n",
        "print(classifier.score(processed_X_test, y_test_simple))\n"
      ],
      "metadata": {
        "colab": {
          "base_uri": "https://localhost:8080/"
        },
        "id": "bMiVQqkccPKn",
        "outputId": "981181a4-1b9f-47eb-e676-558191009b23"
      },
      "execution_count": null,
      "outputs": [
        {
          "output_type": "stream",
          "name": "stdout",
          "text": [
            "0.6051705675386263\n",
            "0.6160828106674825\n"
          ]
        },
        {
          "output_type": "stream",
          "name": "stderr",
          "text": [
            "/usr/local/lib/python3.7/dist-packages/sklearn/linear_model/_sag.py:354: ConvergenceWarning: The max_iter was reached which means the coef_ did not converge\n",
            "  ConvergenceWarning,\n"
          ]
        }
      ]
    },
    {
      "cell_type": "code",
      "source": [
        "from sklearn.linear_model import LogisticRegression\n",
        "\n",
        "#without simplifications:\n",
        "classifier = LogisticRegression(multi_class='multinomial', max_iter=1000, solver='sag')\n",
        "\n",
        "classifier.fit(processed_X_train, y_train)\n",
        "\n",
        "print(classifier.score(processed_X_test, y_test))\n"
      ],
      "metadata": {
        "colab": {
          "base_uri": "https://localhost:8080/"
        },
        "id": "aTHSinOCmy10",
        "outputId": "b3e97770-7147-42ca-cb35-baf068b85293"
      },
      "execution_count": null,
      "outputs": [
        {
          "output_type": "stream",
          "name": "stdout",
          "text": [
            "0.5653969710876549\n"
          ]
        },
        {
          "output_type": "stream",
          "name": "stderr",
          "text": [
            "/usr/local/lib/python3.7/dist-packages/sklearn/linear_model/_sag.py:354: ConvergenceWarning: The max_iter was reached which means the coef_ did not converge\n",
            "  ConvergenceWarning,\n"
          ]
        }
      ]
    },
    {
      "cell_type": "markdown",
      "source": [
        "Using the multinomial distribution as the exponential family distribution instead allows us to handle the unsimplified labels. Similar to the previous part, we find that this multinomial logistic regression allows for slightly better test accuracy of 56.5% compared to the kNN algorithm which achieved accuracy of 55.6% at its best. \n",
        "\n",
        "In order to compare the decision boundaries obtained by these two different algorithms, it is simplest to plug in all the datapoints classified in each category by logistic regression into kNN and see how many datapoints agree."
      ],
      "metadata": {
        "id": "zjIuLj4GIBdr"
      }
    },
    {
      "cell_type": "code",
      "source": [
        "predicted = classifier.predict(processed_X_test)\n",
        "classifier_knn = KNeighborsClassifier(30)\n",
        "classifier_knn.fit(processed_X_train, y_train)\n",
        "predicted_knn = classifier_knn.predict(processed_X_test)\n"
      ],
      "metadata": {
        "id": "CYUwosLBLtI6"
      },
      "execution_count": null,
      "outputs": []
    },
    {
      "cell_type": "code",
      "source": [
        "count = 0\n",
        "different = []\n",
        "for i, pred in enumerate(predicted):\n",
        "  if (pred == predicted_knn[i]):\n",
        "    count +=1\n",
        "  else:\n",
        "    different.append(i)\n",
        "agreement_accuracy = count / len(predicted)\n",
        "print(agreement_accuracy)\n",
        "print(count)\n",
        "print(len(predicted))\n",
        "dif_matrix = np.zeros((3,3))\n",
        "dif_matrix2 = np.zeros((3,3))\n",
        "correct_count = 0\n",
        "print(len(different))\n",
        "for i, pred in enumerate(predicted):\n",
        "  r = 0\n",
        "  c = 0\n",
        "  if (pred == 'NO'):\n",
        "    r = 0\n",
        "  elif (pred == '>30'):\n",
        "    r = 1\n",
        "  elif (pred == '<30'):\n",
        "    r = 2\n",
        "  if (predicted_knn[i] == 'NO'):\n",
        "    c = 0\n",
        "  elif (predicted_knn[i] == '>30'):\n",
        "    c = 1\n",
        "  elif (predicted_knn[i] == '<30'):\n",
        "    c = 2\n",
        "  dif_matrix[r,c] += 1\n",
        "  # if(predicted[i] == y_test.iloc[i]):\n",
        "  #   if (predicted[i] == 'NO'):\n",
        "  #     r = 0\n",
        "  #   elif (predicted[i] == '>30'):\n",
        "  #     r = 1\n",
        "  #   elif (predicted[i] == '<30'):\n",
        "  #     r = 2\n",
        "  #   if (predicted_knn[i] == 'NO'):\n",
        "  #     c = 0\n",
        "  #   elif (predicted_knn[i] == '>30'):\n",
        "  #     c = 1\n",
        "  #   elif (predicted_knn[i] == '<30'):\n",
        "  #     c = 2\n",
        "  #   dif_matrix[r,c] += 1\n",
        "  # elif (predicted_knn[i] == y_test.iloc[i]):\n",
        "  #   if (predicted[i] == 'NO'):\n",
        "  #     r = 0\n",
        "  #   elif (predicted[i] == '>30'):\n",
        "  #     r = 1\n",
        "  #   elif (predicted[i] == '<30'):\n",
        "  #     r = 2\n",
        "  #   if (predicted_knn[i] == 'NO'):\n",
        "  #     c = 0\n",
        "  #   elif (predicted_knn[i] == '>30'):\n",
        "  #     c = 1\n",
        "  #   elif (predicted_knn[i] == '<30'):\n",
        "  #     c = 2\n",
        "  #   dif_matrix2[r,c] += 1\n",
        "  \n",
        "print(dif_matrix)\n",
        "plt.matshow(dif_matrix, cmap=plt.cm.Blues)\n",
        "for i in range(3):\n",
        "    for j in range(3):\n",
        "        c = dif_matrix[j,i]\n",
        "        plt.text(i, j, str(c), va='center', ha='center', fontsize=14)\n",
        "plt.xticks([0, 1, 2], ['No', '>30', '<30'], fontsize=14)\n",
        "plt.yticks([0, 1, 2], ['No', '>30', '<30'], fontsize=14)\n",
        "plt.xlabel(\"kNN predictions\", fontsize=14)\n",
        "plt.ylabel('Logistic regression predictions', fontsize=14)\n",
        "plt.title('Confusion matrix between logistic regression and kNN', fontsize=20)\n",
        "fig = plt.gcf()\n",
        "fig.set_size_inches(8, 8)\n",
        "plt.savefig('logregvsknnconfusion.png')\n",
        "plt.show()\n",
        "# plt.matshow(dif_matrix2, cmap=plt.cm.Blues)\n",
        "# for i in range(3):\n",
        "#     for j in range(3):\n",
        "#         c = dif_matrix2[j,i]\n",
        "#         plt.text(i, j, str(c), va='center', ha='center')\n",
        "# plt.xticks([0, 1, 2], ['No', '>30', '<30'])\n",
        "# plt.yticks([0, 1, 2], ['No', '>30', '<30'])\n",
        "# plt.xlabel(\"kNN predictions\")\n",
        "# plt.ylabel('Logistic regression predictions')\n",
        "# plt.title('Difference matrix for points predicted correctly by kNN but not logistic regression')\n",
        "# plt.show()\n",
        "# print(len(y_test))\n",
        "# print(correct_count)"
      ],
      "metadata": {
        "colab": {
          "base_uri": "https://localhost:8080/",
          "height": 660
        },
        "id": "OZrUY-agOUJB",
        "outputId": "5bdf7c27-de4e-4df1-8a24-9671c39c883b"
      },
      "execution_count": null,
      "outputs": [
        {
          "output_type": "stream",
          "name": "stdout",
          "text": [
            "0.797766559583907\n",
            "15645\n",
            "19611\n",
            "3966\n",
            "[[1.3317e+04 2.5210e+03 1.3000e+01]\n",
            " [1.3430e+03 2.3090e+03 5.2000e+01]\n",
            " [3.0000e+00 3.4000e+01 1.9000e+01]]\n"
          ]
        },
        {
          "output_type": "display_data",
          "data": {
            "text/plain": [
              "<Figure size 576x576 with 1 Axes>"
            ],
            "image/png": "[encoded data removed]"
          },
          "metadata": {
            "needs_background": "light"
          }
        }
      ]
    },
    {
      "cell_type": "code",
      "source": [
        "confusion_matrix_1 = np.zeros((3,3))\n",
        "confusion_matrix_2 = np.zeros((3,3))\n",
        "for i, pred in enumerate(predicted):\n",
        "  r = 0\n",
        "  c = 0\n",
        "  if (predicted[i] == 'NO'):\n",
        "      r = 0\n",
        "  elif (predicted[i] == '>30'):\n",
        "    r = 1\n",
        "  elif (predicted[i] == '<30'):\n",
        "    r = 2\n",
        "  if (y_test.iloc[i] == 'NO'):\n",
        "    c = 0\n",
        "  elif (y_test.iloc[i] == '>30'):\n",
        "    c = 1\n",
        "  elif (y_test.iloc[i] == '<30'):\n",
        "    c = 2\n",
        "  confusion_matrix_1[r,c] += 1\n",
        "  r = 0\n",
        "  c = 0\n",
        "  if (predicted_knn[i] == 'NO'):\n",
        "      r = 0\n",
        "  elif (predicted_knn[i] == '>30'):\n",
        "    r = 1\n",
        "  elif (predicted_knn[i] == '<30'):\n",
        "    r = 2\n",
        "  if (y_test.iloc[i] == 'NO'):\n",
        "    c = 0\n",
        "  elif (y_test.iloc[i] == '>30'):\n",
        "    c = 1\n",
        "  elif (y_test.iloc[i] == '<30'):\n",
        "    c = 2\n",
        "  confusion_matrix_2[r,c] += 1\n",
        "plt.matshow(confusion_matrix_1, cmap=plt.cm.Blues)\n",
        "for i in range(3):\n",
        "    for j in range(3):\n",
        "        c = confusion_matrix_1[j,i]\n",
        "        plt.text(i, j, str(c), va='center', ha='center', fontsize=14)\n",
        "plt.xticks([0, 1, 2], ['No', '>30', '<30'], fontsize = 14)\n",
        "plt.yticks([0, 1, 2], ['No', '>30', '<30'], fontsize = 14)\n",
        "plt.xlabel(\"True labels\", fontsize = 14)\n",
        "plt.ylabel('Predicted labels', fontsize = 14)\n",
        "plt.title('Confusion matrix for logistic regression', fontsize=20)\n",
        "fig = plt.gcf()\n",
        "fig.set_size_inches(8, 8)\n",
        "plt.savefig('Confusion_matrix_logreg.png')\n",
        "plt.show()\n",
        "plt.matshow(confusion_matrix_2, cmap=plt.cm.Blues)\n",
        "for i in range(3):\n",
        "    for j in range(3):\n",
        "        c = confusion_matrix_2[j,i]\n",
        "        plt.text(i, j, str(c), va='center', ha='center', fontsize=14)\n",
        "plt.xticks([0, 1, 2], ['No', '>30', '<30'], fontsize = 14)\n",
        "plt.yticks([0, 1, 2], ['No', '>30', '<30'], fontsize = 14)\n",
        "plt.xlabel(\"True labels\", fontsize = 14)\n",
        "plt.ylabel('Predicted labels', fontsize = 14)\n",
        "plt.title('Confusion matrix for kNN', fontsize=20)\n",
        "fig = plt.gcf()\n",
        "fig.set_size_inches(8, 8)\n",
        "plt.savefig('Confusion_matrix_kNN.png')\n",
        "plt.show()"
      ],
      "metadata": {
        "colab": {
          "base_uri": "https://localhost:8080/",
          "height": 1000
        },
        "id": "D4MQy1GZE4ju",
        "outputId": "e7c578e0-54dd-4cd7-c5da-30faac9bc498"
      },
      "execution_count": null,
      "outputs": [
        {
          "output_type": "display_data",
          "data": {
            "text/plain": [
              "<Figure size 576x576 with 1 Axes>"
            ],
            "image/png": "[encoded data removed]"
          },
          "metadata": {
            "needs_background": "light"
          }
        },
        {
          "output_type": "display_data",
          "data": {
            "text/plain": [
              "<Figure size 576x576 with 1 Axes>"
            ],
            "image/png": "[encoded data removed]"
          },
          "metadata": {
            "needs_background": "light"
          }
        }
      ]
    },
    {
      "cell_type": "code",
      "source": [
        "print(np.count_nonzero(predicted_knn == y_test))\n",
        "print(np.count_nonzero(predicted == y_test))\n",
        "print(len(y_test))"
      ],
      "metadata": {
        "colab": {
          "base_uri": "https://localhost:8080/"
        },
        "id": "baFRVY2wTgOy",
        "outputId": "a14475bd-abe6-4388-8071-d0f0217f9b89"
      },
      "execution_count": null,
      "outputs": [
        {
          "output_type": "stream",
          "name": "stdout",
          "text": [
            "10914\n",
            "11089\n",
            "19611\n"
          ]
        }
      ]
    },
    {
      "cell_type": "markdown",
      "source": [
        "Almost all of the disagreement comes from predicting a patient will be readmitted in >30 days vs not being readmitted. We see that the decision boundary for logistic regression much more heavily favors being admitted "
      ],
      "metadata": {
        "id": "6lTjAgsLQ8MX"
      }
    },
    {
      "cell_type": "markdown",
      "source": [
        "## Decision tree\n",
        "\n",
        "Before moving on to random forests, for a first attempt will try to use decision trees. But these tend to overfit so we expect to see extremely high train accuracy with very low test accuracy."
      ],
      "metadata": {
        "id": "hkJBLfu9KAPH"
      }
    },
    {
      "cell_type": "code",
      "source": [
        "from sklearn.tree import DecisionTreeClassifier\n",
        "\n",
        "max_depth =  np.arange(5, 50, 5)\n",
        "train_acc = []\n",
        "test_acc = []\n",
        "for depth in max_depth:\n",
        "  print(depth)\n",
        "  treeclf = DecisionTreeClassifier(criterion='entropy', max_depth=depth)\n",
        "  treeclf.fit(processed_X_train, y_train)\n",
        "  test_acc.append(treeclf.score(processed_X_test, y_test))\n",
        "  train_acc.append(treeclf.score(processed_X_train, y_train))\n",
        "fig, (ax1, ax2) = plt.subplots(1,2)\n",
        "ax1.set_title(\"Train accuracy vs maximum tree depth\")\n",
        "ax2.set_title(\"Test accuracy vs maximum tree depth\")\n",
        "ax1.plot(max_depth, np.asarray(train_acc) * 100, label=\"Train accuracy\")\n",
        "ax2.plot(max_depth, np.asarray(test_acc) * 100, label=\"Test accuracy\")\n",
        "fig.set_size_inches(12, 6)\n",
        "ax1.set_ylabel(\"Accuracy (%)\")\n",
        "ax1.set_xlabel(\"Maximum tree depth\")\n",
        "ax2.set_xlabel(\"Maximum tree depth\")\n",
        "plt.savefig('train_and_test_acc_dectree.png')\n"
      ],
      "metadata": {
        "colab": {
          "base_uri": "https://localhost:8080/",
          "height": 560
        },
        "id": "r4-R1KS3KvIN",
        "outputId": "d2ddbcfd-2240-4423-e43f-7504a9211722"
      },
      "execution_count": null,
      "outputs": [
        {
          "output_type": "stream",
          "name": "stdout",
          "text": [
            "5\n",
            "10\n",
            "15\n",
            "20\n",
            "25\n",
            "30\n",
            "35\n",
            "40\n",
            "45\n"
          ]
        },
        {
          "output_type": "display_data",
          "data": {
            "text/plain": [
              "<Figure size 864x432 with 2 Axes>"
            ],
            "image/png": "[encoded data removed]"
          },
          "metadata": {
            "needs_background": "light"
          }
        }
      ]
    },
    {
      "cell_type": "code",
      "source": [
        "max_depth =  np.arange(1, 11, 1)\n",
        "train_acc = []\n",
        "test_acc = []\n",
        "for depth in max_depth:\n",
        "  print(depth)\n",
        "  treeclf = DecisionTreeClassifier(criterion='entropy', max_depth=depth)\n",
        "  treeclf.fit(processed_X_train, y_train)\n",
        "  test_acc.append(treeclf.score(processed_X_test, y_test))\n",
        "  train_acc.append(treeclf.score(processed_X_train, y_train))\n",
        "fig, (ax1, ax2) = plt.subplots(1,2)\n",
        "ax1.set_title(\"Train accuracy vs maximum tree depth\")\n",
        "ax2.set_title(\"Test accuracy vs maximum tree depth\")\n",
        "ax1.plot(max_depth, np.asarray(train_acc) * 100, label=\"Train accuracy\")\n",
        "ax2.plot(max_depth, np.asarray(test_acc) * 100, label=\"Test accuracy\")\n",
        "fig.set_size_inches(12, 6)\n",
        "ax1.set_ylabel(\"Accuracy (%)\")\n",
        "ax1.set_xlabel(\"Maximum tree depth\")\n",
        "ax2.set_xlabel(\"Maximum tree depth\")\n",
        "plt.savefig('train_and_test_acc_dectree_zoom.png')"
      ],
      "metadata": {
        "colab": {
          "base_uri": "https://localhost:8080/",
          "height": 578
        },
        "id": "28uHupi_SZlr",
        "outputId": "735dfbc2-acf3-4516-c200-1eacc2a16735"
      },
      "execution_count": null,
      "outputs": [
        {
          "output_type": "stream",
          "name": "stdout",
          "text": [
            "1\n",
            "2\n",
            "3\n",
            "4\n",
            "5\n",
            "6\n",
            "7\n",
            "8\n",
            "9\n",
            "10\n"
          ]
        },
        {
          "output_type": "display_data",
          "data": {
            "text/plain": [
              "<Figure size 864x432 with 2 Axes>"
            ],
            "image/png": "[encoded data removed]"
          },
          "metadata": {
            "needs_background": "light"
          }
        }
      ]
    },
    {
      "cell_type": "code",
      "source": [
        "confusion_matrix = np.zeros((3,3))\n",
        "besttreeclf =DecisionTreeClassifier(criterion='entropy', max_depth = 7)\n",
        "besttreeclf.fit(processed_X_train, y_train)\n",
        "for i, pred in enumerate(besttreeclf.predict(processed_X_test)):\n",
        "  r = 0\n",
        "  c = 0\n",
        "  if (pred == 'NO'):\n",
        "    r = 0\n",
        "  elif (pred == '>30'):\n",
        "    r = 1\n",
        "  elif (pred == '<30'):\n",
        "    r = 2\n",
        "  if (y_test.iloc[i] == 'NO'):\n",
        "    c = 0\n",
        "  elif (y_test.iloc[i] == '>30'):\n",
        "    c = 1\n",
        "  elif (y_test.iloc[i] == '<30'):\n",
        "    c = 2\n",
        "  confusion_matrix[r,c] += 1\n",
        "plt.matshow(confusion_matrix, cmap=plt.cm.Blues)\n",
        "for i in range(3):\n",
        "    for j in range(3):\n",
        "        c = confusion_matrix[j,i]\n",
        "        plt.text(i, j, str(c), va='center', ha='center', fontsize=14)\n",
        "plt.xticks([0, 1, 2], ['No', '>30', '<30'], fontsize = 14)\n",
        "plt.yticks([0, 1, 2], ['No', '>30', '<30'], fontsize = 14)\n",
        "plt.xlabel(\"True labels\", fontsize = 14)\n",
        "plt.ylabel('Predicted labels', fontsize = 14)\n",
        "plt.title('Confusion matrix for best decision tree', fontsize=20)\n",
        "fig = plt.gcf()\n",
        "fig.set_size_inches(8, 8)\n",
        "plt.savefig('Confusion_matrix_DT.png')\n",
        "plt.show()"
      ],
      "metadata": {
        "colab": {
          "base_uri": "https://localhost:8080/",
          "height": 539
        },
        "id": "JUouX64EWsoZ",
        "outputId": "ea7affc7-2e43-48c4-c859-02095a1a22cb"
      },
      "execution_count": null,
      "outputs": [
        {
          "output_type": "display_data",
          "data": {
            "text/plain": [
              "<Figure size 576x576 with 1 Axes>"
            ],
            "image/png": "[encoded data removed]"
          },
          "metadata": {
            "needs_background": "light"
          }
        }
      ]
    },
    {
      "cell_type": "markdown",
      "source": [
        "## Random Forest"
      ],
      "metadata": {
        "id": "kBo3fVhZ2e1X"
      }
    },
    {
      "cell_type": "markdown",
      "source": [
        "Same experiments done for the random forest classifier"
      ],
      "metadata": {
        "id": "ruB20-Q-MwIs"
      }
    },
    {
      "cell_type": "code",
      "source": [
        "from sklearn.ensemble import RandomForestClassifier\n",
        "max_depth =  np.arange(1, 26, 5)\n",
        "train_acc = []\n",
        "test_acc = []\n",
        "for depth in max_depth:\n",
        "  print(depth)\n",
        "  treeclf = RandomForestClassifier(criterion='entropy', max_depth = depth)\n",
        "  treeclf.fit(processed_X_train, y_train)\n",
        "  test_acc.append(treeclf.score(processed_X_test, y_test))\n",
        "  train_acc.append(treeclf.score(processed_X_train, y_train))\n",
        "fig, (ax1, ax2) = plt.subplots(1,2)\n",
        "ax1.set_title(\"Train accuracy vs maximum tree depth\")\n",
        "ax2.set_title(\"Test accuracy vs maximum tree depth\")\n",
        "ax1.plot(max_depth, np.asarray(train_acc) * 100, label=\"Train accuracy\")\n",
        "ax2.plot(max_depth, np.asarray(test_acc) * 100, label=\"Test accuracy\")\n",
        "fig.set_size_inches(12, 6)\n",
        "ax1.set_ylabel(\"Accuracy (%)\")\n",
        "ax1.set_xlabel(\"Maximum tree depth\")\n",
        "ax2.set_xlabel(\"Maximum tree depth\")\n",
        "plt.savefig('train_and_test_acc_randforest_wider.png')\n"
      ],
      "metadata": {
        "colab": {
          "base_uri": "https://localhost:8080/",
          "height": 491
        },
        "id": "ZnUhnx1NKwA4",
        "outputId": "35fcaa9b-ee40-4cf7-d2c8-1a0435d7b65e"
      },
      "execution_count": null,
      "outputs": [
        {
          "output_type": "stream",
          "name": "stdout",
          "text": [
            "1\n",
            "6\n",
            "11\n",
            "16\n",
            "21\n"
          ]
        },
        {
          "output_type": "display_data",
          "data": {
            "text/plain": [
              "<Figure size 864x432 with 2 Axes>"
            ],
            "image/png": "[encoded data removed]"
          },
          "metadata": {
            "needs_background": "light"
          }
        }
      ]
    },
    {
      "cell_type": "code",
      "source": [
        "confusion_matrix = np.zeros((3,3))\n",
        "besttreeclf = RandomForestClassifier(criterion='entropy', max_depth = 16)\n",
        "besttreeclf.fit(processed_X_train, y_train)\n",
        "print(besttreeclf.score(processed_X_test, y_test))\n",
        "for i, pred in enumerate(besttreeclf.predict(processed_X_test)):\n",
        "  r = 0\n",
        "  c = 0\n",
        "  if (pred == 'NO'):\n",
        "    r = 0\n",
        "  elif (pred == '>30'):\n",
        "    r = 1\n",
        "  elif (pred == '<30'):\n",
        "    r = 2\n",
        "  if (y_test.iloc[i] == 'NO'):\n",
        "    c = 0\n",
        "  elif (y_test.iloc[i] == '>30'):\n",
        "    c = 1\n",
        "  elif (y_test.iloc[i] == '<30'):\n",
        "    c = 2\n",
        "  confusion_matrix[r,c] += 1\n",
        "plt.matshow(confusion_matrix, cmap=plt.cm.Blues)\n",
        "for i in range(3):\n",
        "    for j in range(3):\n",
        "        c = confusion_matrix[j,i]\n",
        "        plt.text(i, j, str(c), va='center', ha='center', fontsize=14)\n",
        "plt.xticks([0, 1, 2], ['No', '>30', '<30'], fontsize = 14)\n",
        "plt.yticks([0, 1, 2], ['No', '>30', '<30'], fontsize = 14)\n",
        "plt.xlabel(\"True labels\", fontsize = 14)\n",
        "plt.ylabel('Predicted labels', fontsize = 14)\n",
        "plt.title('Confusion matrix for best random forest', fontsize=20)\n",
        "fig = plt.gcf()\n",
        "fig.set_size_inches(8, 8)\n",
        "plt.savefig('Confusion_matrix_RF.png')\n",
        "plt.show()"
      ],
      "metadata": {
        "colab": {
          "base_uri": "https://localhost:8080/",
          "height": 556
        },
        "id": "HvvEc9OvQeBU",
        "outputId": "b5d1217c-ac06-4b09-ef92-1bfb6087ffb0"
      },
      "execution_count": null,
      "outputs": [
        {
          "output_type": "stream",
          "name": "stdout",
          "text": [
            "0.5701901993779002\n"
          ]
        },
        {
          "output_type": "display_data",
          "data": {
            "text/plain": [
              "<Figure size 576x576 with 1 Axes>"
            ],
            "image/png": "[encoded data removed]"
          },
          "metadata": {
            "needs_background": "light"
          }
        }
      ]
    },
    {
      "cell_type": "markdown",
      "source": [
        "## Deep neural network"
      ],
      "metadata": {
        "id": "b7yOA9ZEe8fN"
      }
    },
    {
      "cell_type": "code",
      "source": [
        "from sklearn.neural_network import MLPClassifier\n",
        "\n",
        "nnclf = MLPClassifier(solver='adam', hidden_layer_sizes=(120, 60, 20), verbose=True, early_stopping=True)\n",
        "nnclf.fit(processed_X_train, y_train)"
      ],
      "metadata": {
        "id": "0N_DqzkczGy1",
        "colab": {
          "base_uri": "https://localhost:8080/"
        },
        "outputId": "632641d7-8c21-421a-f4e9-ca28618e3823"
      },
      "execution_count": 113,
      "outputs": [
        {
          "output_type": "stream",
          "name": "stdout",
          "text": [
            "Iteration 1, loss = 0.93120286\n",
            "Validation score: 0.568515\n",
            "Iteration 2, loss = 0.91145247\n",
            "Validation score: 0.570682\n",
            "Iteration 3, loss = 0.90503717\n",
            "Validation score: 0.572339\n",
            "Iteration 4, loss = 0.89928318\n",
            "Validation score: 0.573741\n",
            "Iteration 5, loss = 0.89634221\n",
            "Validation score: 0.577565\n",
            "Iteration 6, loss = 0.89437676\n",
            "Validation score: 0.576546\n",
            "Iteration 7, loss = 0.89314514\n",
            "Validation score: 0.579095\n",
            "Iteration 8, loss = 0.89223341\n",
            "Validation score: 0.578203\n",
            "Iteration 9, loss = 0.89109249\n",
            "Validation score: 0.575398\n",
            "Iteration 10, loss = 0.88973188\n",
            "Validation score: 0.578330\n",
            "Iteration 11, loss = 0.88956247\n",
            "Validation score: 0.571192\n",
            "Iteration 12, loss = 0.88844355\n",
            "Validation score: 0.577183\n",
            "Iteration 13, loss = 0.88785130\n",
            "Validation score: 0.575398\n",
            "Iteration 14, loss = 0.88657547\n",
            "Validation score: 0.575908\n",
            "Iteration 15, loss = 0.88583970\n",
            "Validation score: 0.575016\n",
            "Iteration 16, loss = 0.88570920\n",
            "Validation score: 0.581644\n",
            "Iteration 17, loss = 0.88542574\n",
            "Validation score: 0.578585\n",
            "Iteration 18, loss = 0.88468115\n",
            "Validation score: 0.571829\n",
            "Iteration 19, loss = 0.88413465\n",
            "Validation score: 0.574124\n",
            "Iteration 20, loss = 0.88392320\n",
            "Validation score: 0.574124\n",
            "Iteration 21, loss = 0.88297189\n",
            "Validation score: 0.577948\n",
            "Iteration 22, loss = 0.88241474\n",
            "Validation score: 0.574506\n",
            "Iteration 23, loss = 0.88140951\n",
            "Validation score: 0.577693\n",
            "Iteration 24, loss = 0.88117084\n",
            "Validation score: 0.579350\n",
            "Iteration 25, loss = 0.88107392\n",
            "Validation score: 0.575653\n",
            "Iteration 26, loss = 0.87998671\n",
            "Validation score: 0.577055\n",
            "Iteration 27, loss = 0.88017281\n",
            "Validation score: 0.573359\n",
            "Validation score did not improve more than tol=0.000100 for 10 consecutive epochs. Stopping.\n"
          ]
        },
        {
          "output_type": "execute_result",
          "data": {
            "text/plain": [
              "MLPClassifier(early_stopping=True, hidden_layer_sizes=(120, 60, 20),\n",
              "              verbose=True)"
            ]
          },
          "metadata": {},
          "execution_count": 113
        }
      ]
    },
    {
      "cell_type": "code",
      "source": [
        "print(nnclf.score(processed_X_test, y_test))\n",
        "plt.plot(nnclf.loss_curve_)\n"
      ],
      "metadata": {
        "colab": {
          "base_uri": "https://localhost:8080/",
          "height": 300
        },
        "id": "x_p-w6OJWE_0",
        "outputId": "9a459fe7-da6d-45a5-f884-3818fce8241b"
      },
      "execution_count": 114,
      "outputs": [
        {
          "output_type": "stream",
          "name": "stdout",
          "text": [
            "0.5730457396359186\n"
          ]
        },
        {
          "output_type": "execute_result",
          "data": {
            "text/plain": [
              "[<matplotlib.lines.Line2D at 0x7f5c8b1ea250>]"
            ]
          },
          "metadata": {},
          "execution_count": 114
        },
        {
          "output_type": "display_data",
          "data": {
            "text/plain": [
              "<Figure size 432x288 with 1 Axes>"
            ],
            "image/png": "[encoded data removed]"
          },
          "metadata": {
            "needs_background": "light"
          }
        }
      ]
    },
    {
      "cell_type": "code",
      "source": [
        "import pickle\n",
        "pickle.dump(nnclf, open('best_model_earlystop.sav', 'wb'))"
      ],
      "metadata": {
        "id": "E0czCHgmZNxm"
      },
      "execution_count": 128,
      "outputs": []
    },
    {
      "cell_type": "code",
      "source": [
        "import pickle\n",
        "pickle.load(open('best_model_earlystop.sav', 'rb'))\n",
        "confusion_matrix = np.zeros((3,3))\n",
        "for i, pred in enumerate(nnclf.predict(processed_X_test)):\n",
        "  r = 0\n",
        "  c = 0\n",
        "  if (pred == 'NO'):\n",
        "    r = 0\n",
        "  elif (pred == '>30'):\n",
        "    r = 1\n",
        "  elif (pred == '<30'):\n",
        "    r = 2\n",
        "  if (y_test.iloc[i] == 'NO'):\n",
        "    c = 0\n",
        "  elif (y_test.iloc[i] == '>30'):\n",
        "    c = 1\n",
        "  elif (y_test.iloc[i] == '<30'):\n",
        "    c = 2\n",
        "  confusion_matrix[r,c] += 1\n",
        "plt.matshow(confusion_matrix, cmap=plt.cm.Blues)\n",
        "for i in range(3):\n",
        "    for j in range(3):\n",
        "        c = confusion_matrix[j,i]\n",
        "        plt.text(i, j, str(c), va='center', ha='center', fontsize=14)\n",
        "plt.xticks([0, 1, 2], ['No', '>30', '<30'], fontsize = 14)\n",
        "plt.yticks([0, 1, 2], ['No', '>30', '<30'], fontsize = 14)\n",
        "plt.xlabel(\"True labels\", fontsize = 14)\n",
        "plt.ylabel('Predicted labels', fontsize = 14)\n",
        "plt.title('Confusion matrix for best neural network', fontsize=20)\n",
        "fig = plt.gcf()\n",
        "fig.set_size_inches(8, 8)\n",
        "plt.savefig('Confusion_matrix_nn.png')\n",
        "plt.show()"
      ],
      "metadata": {
        "colab": {
          "base_uri": "https://localhost:8080/",
          "height": 539
        },
        "id": "hqES_iuVqtvw",
        "outputId": "cb879b56-cd24-4de4-e012-f8d0b4cdd91b"
      },
      "execution_count": 131,
      "outputs": [
        {
          "output_type": "display_data",
          "data": {
            "text/plain": [
              "<Figure size 576x576 with 1 Axes>"
            ],
            "image/png": "[encoded data removed]"
          },
          "metadata": {
            "needs_background": "light"
          }
        }
      ]
    },
    {
      "cell_type": "code",
      "source": [
        "#testing different regularization rates\n",
        "alphas = [0.0001, 0.001, 0.01, 0.1, 1]\n",
        "from sklearn.neural_network import MLPClassifier\n",
        "import pickle\n",
        "val_accs = []\n",
        "processed_X_trainsplit, processed_X_valid = np.split(processed_X_train.sample(frac=1, random_state=42), [int(.9*len(processed_X_train))])\n",
        "y_trainsplit, y_valid = np.split(y_train.sample(frac=1, random_state=42), [int(.9*len(y_train))])\n",
        "for reg in alphas:\n",
        "  print(reg)\n",
        "  nnclf = MLPClassifier(solver='adam', hidden_layer_sizes=(120, 60, 20), early_stopping=True)\n",
        "  nnclf.fit(processed_X_trainsplit, y_trainsplit)\n",
        "  val_accs.append(nnclf.score(processed_X_valid, y_valid))\n",
        "  pickle.dump(nnclf, open('modelwithreg=' + str(reg) + '.sav', 'wb'))"
      ],
      "metadata": {
        "colab": {
          "base_uri": "https://localhost:8080/",
          "height": 369
        },
        "id": "rTJJSQqaWX4z",
        "outputId": "91a8fd0a-8dd0-4227-c73b-2e775d2ffbe9"
      },
      "execution_count": 117,
      "outputs": [
        {
          "output_type": "stream",
          "name": "stdout",
          "text": [
            "0.0001\n",
            "0.001\n",
            "0.01\n",
            "0.1\n",
            "1\n"
          ]
        },
        {
          "output_type": "execute_result",
          "data": {
            "text/plain": [
              "[<matplotlib.lines.Line2D at 0x7f5c8b3e8590>]"
            ]
          },
          "metadata": {},
          "execution_count": 117
        },
        {
          "output_type": "display_data",
          "data": {
            "text/plain": [
              "<Figure size 432x288 with 1 Axes>"
            ],
            "image/png": "[encoded data removed]"
          },
          "metadata": {
            "needs_background": "light"
          }
        }
      ]
    },
    {
      "cell_type": "code",
      "source": [
        "plt.title('Validation accuracy vs regularization rate', fontsize=20)\n",
        "plt.plot(alphas, 100*np.asarray(val_accs))\n",
        "plt.xscale('log')\n",
        "plt.xlabel(r'$\\alpha$', fontsize=14)\n",
        "plt.ylabel('Validation accuracy', fontsize=14)\n",
        "fig = plt.gcf()\n",
        "fig.set_size_inches(7,5)\n",
        "plt.savefig('Valaccuracyvsregrate.png')"
      ],
      "metadata": {
        "colab": {
          "base_uri": "https://localhost:8080/",
          "height": 363
        },
        "id": "LbUE4vjTYY-4",
        "outputId": "06fc7691-d0e2-4e67-e1d7-add7a2508f63"
      },
      "execution_count": 127,
      "outputs": [
        {
          "output_type": "display_data",
          "data": {
            "text/plain": [
              "<Figure size 504x360 with 1 Axes>"
            ],
            "image/png": "[encoded data removed]"
          },
          "metadata": {
            "needs_background": "light"
          }
        }
      ]
    },
    {
      "cell_type": "markdown",
      "source": [
        "## Balancing dataset\n",
        "\n",
        "Due to the imbalance of the dataset all classifiers tend to give many many more NO guesses than anything else. Reweighting the test dataset shows that in fact the best algorithm would have actually been:"
      ],
      "metadata": {
        "id": "gpkTByz4c_CP"
      }
    },
    {
      "cell_type": "code",
      "source": [
        "print(y_test.value_counts())"
      ],
      "metadata": {
        "colab": {
          "base_uri": "https://localhost:8080/"
        },
        "id": "DCVCnDNG3z1Z",
        "outputId": "14b99460-5797-4365-8ebe-cf0e5b16485b"
      },
      "execution_count": 241,
      "outputs": [
        {
          "output_type": "stream",
          "name": "stdout",
          "text": [
            "NO     10462\n",
            ">30     6913\n",
            "<30     2236\n",
            "Name: readmitted, dtype: int64\n"
          ]
        }
      ]
    },
    {
      "cell_type": "code",
      "source": [
        "from json import load\n",
        "import pickle\n",
        "\n",
        "from sklearn.neural_network import MLPClassifier\n",
        "from sklearn.ensemble import RandomForestClassifier\n",
        "from sklearn.tree import DecisionTreeClassifier\n",
        "from sklearn.linear_model import LogisticRegression\n",
        "from sklearn.neighbors import KNeighborsClassifier\n",
        "from sklearn.metrics import roc_auc_score\n",
        "from sklearn.metrics import roc_curve\n",
        "\n",
        "def score_all_models():\n",
        "  X = processed_X_test.to_numpy()\n",
        "  Y = y_test_simple.to_numpy()\n",
        "  model_names = ['Logistic regression', 'kNN', 'Decision tree', 'Random forest', 'Deep neural network']\n",
        "  models = [\n",
        "  pickle.load(open('./models/logreg.sav', 'rb')),\n",
        "  pickle.load(open('./models/knn.sav', 'rb')),\n",
        "  pickle.load(open('./models/tree.sav', 'rb')),\n",
        "  pickle.load(open('./models/forest.sav', 'rb')),\n",
        "  pickle.load(open('./models/nn.sav', 'rb'))\n",
        "  ]\n",
        "  for i in range(len(models)):\n",
        "    predictions = models[i].predict(processed_X_test)\n",
        "    print(model_names[i] + ' achieved test set accuracy of: ' + str(models[i].score(processed_X_test, y_test)))\n",
        "\n",
        "def weighted_score_all_models():\n",
        "  X = processed_X_test.to_numpy()\n",
        "  Y = y_test.to_numpy()\n",
        "  model_names = ['Logistic regression', 'kNN', 'Decision tree', 'Random forest', 'Deep neural network']\n",
        "  models = [\n",
        "  pickle.load(open('./models/logreg.sav', 'rb')),\n",
        "  pickle.load(open('./models/knn.sav', 'rb')),\n",
        "  pickle.load(open('./models/tree.sav', 'rb')),\n",
        "  pickle.load(open('./models/forest.sav', 'rb')),\n",
        "  pickle.load(open('./models/nn.sav', 'rb'))\n",
        "  ]\n",
        "  for i in range(len(models)):\n",
        "    predictions = models[i].predict(processed_X_test)\n",
        "    print(set(predictions))\n",
        "    totals = np.zeros(3)\n",
        "    counts = np.zeros(3)\n",
        "    for ind, y in enumerate(Y):\n",
        "      if (y == 'NO'):\n",
        "        totals[0]+=1\n",
        "        if(predictions[ind] == y):\n",
        "          counts[0]+=1\n",
        "      elif (y == '>30'):\n",
        "        totals[1]+=1\n",
        "        if(predictions[ind] == y):\n",
        "          counts[1]+=1\n",
        "      else:\n",
        "        totals[2]+=1\n",
        "        if(predictions[ind] == y):\n",
        "          counts[2]+=1\n",
        "    print(counts)\n",
        "    print(totals)\n",
        "    weighted_acc = np.sum((counts / totals)) /3\n",
        "    print(model_names[i] + ' achieved test set accuracy of: ' + str(weighted_acc))"
      ],
      "metadata": {
        "id": "hFWDfSe633c9"
      },
      "execution_count": 293,
      "outputs": []
    },
    {
      "cell_type": "code",
      "source": [
        "score_all_models()\n"
      ],
      "metadata": {
        "colab": {
          "base_uri": "https://localhost:8080/"
        },
        "id": "l6fRGnhK5Id4",
        "outputId": "59ab1177-77e8-48dd-e9d1-92e459284579"
      },
      "execution_count": 259,
      "outputs": [
        {
          "output_type": "stream",
          "name": "stdout",
          "text": [
            "Logistic regression achieved test set accuracy of: 0.5653969710876549\n",
            "kNN achieved test set accuracy of: 0.556524399571669\n",
            "Decision tree achieved test set accuracy of: 0.5585130793942176\n",
            "Random forest achieved test set accuracy of: 0.5694253225230738\n",
            "Deep neural network achieved test set accuracy of: 0.5767681403294069\n"
          ]
        }
      ]
    },
    {
      "cell_type": "code",
      "source": [
        "weighted_score_all_models()"
      ],
      "metadata": {
        "colab": {
          "base_uri": "https://localhost:8080/"
        },
        "id": "bGAT3yZH-AC0",
        "outputId": "fb804125-102b-4f75-e34f-83bcbd8733f1"
      },
      "execution_count": 294,
      "outputs": [
        {
          "output_type": "stream",
          "name": "stdout",
          "text": [
            "{'>30', '<30', 'NO'}\n",
            "[9262. 1804.   22.]\n",
            "[10462.  6913.  2236.]\n",
            "Logistic regression achieved test set accuracy of: 0.38536526409138966\n",
            "{'>30', '<30', 'NO'}\n",
            "[8616. 2257.   41.]\n",
            "[10462.  6913.  2236.]\n",
            "kNN achieved test set accuracy of: 0.38945818235753765\n",
            "{'>30', '<30', 'NO'}\n",
            "[9160. 1767.   26.]\n",
            "[10462.  6913.  2236.]\n",
            "Decision tree achieved test set accuracy of: 0.38092763208272945\n",
            "{'>30', '<30', 'NO'}\n",
            "[9386. 1742.   39.]\n",
            "[10462.  6913.  2236.]\n",
            "Random forest achieved test set accuracy of: 0.38886082097946256\n",
            "{'>30', '<30', 'NO'}\n",
            "[9114. 2169.   28.]\n",
            "[10462.  6913.  2236.]\n",
            "Deep neural network achieved test set accuracy of: 0.39914393163818235\n"
          ]
        }
      ]
    },
    {
      "cell_type": "markdown",
      "source": [
        "## Trying all on only binary labels\n",
        "\n",
        "Another way to fix this balancing issue is to simply ignore the $\\lt 30$ vs $\\gt 30$ distinction and reuse our old simplified labels which turn the problem into a binary classification problem once again. This also allows us to calculate the ROI and the AUC, and using the reference paper's suggestion we can weight all the outputs of all the models and use that as the classifier instead. We will call this the aggregated model."
      ],
      "metadata": {
        "id": "goAq7IQEdd6Q"
      }
    },
    {
      "cell_type": "code",
      "source": [
        "from json import load\n",
        "import pickle\n",
        "\n",
        "from sklearn.neural_network import MLPClassifier\n",
        "from sklearn.ensemble import RandomForestClassifier\n",
        "from sklearn.tree import DecisionTreeClassifier\n",
        "from sklearn.linear_model import LogisticRegression\n",
        "from sklearn.neighbors import KNeighborsClassifier\n",
        "from sklearn.metrics import roc_auc_score\n",
        "from sklearn.metrics import roc_curve\n",
        "\n",
        "\n",
        "y_train_simple = y_train.replace(\"NO\", 0, inplace=False)\n",
        "y_train_simple.replace(\">30\", 1, inplace=True)\n",
        "y_train_simple.replace(\"<30\", 1, inplace=True)\n",
        "y_test_simple = y_test.replace(\"NO\", 0, inplace=False)\n",
        "y_test_simple.replace(\">30\", 1, inplace=True)\n",
        "y_test_simple.replace(\"<30\", 1, inplace=True)\n",
        "print(y_test_simple.value_counts())\n",
        "\n",
        "def train_binary_models():\n",
        "  weights = []\n",
        "  yarr = y_test_simple.to_numpy()\n",
        "\n",
        "  model = pickle.load(open('./binarymodels/logreg.sav', 'rb'))\n",
        "  # model = LogisticRegression(max_iter=1000, solver='sag')\n",
        "  # model.fit(processed_X_train, y_train_simple)\n",
        "  # pickle.dump(model, open('./binarymodels/logreg.sav', 'wb'))\n",
        "  prob = model.predict_proba(processed_X_test)[:,1]\n",
        "  auc = roc_auc_score(yarr, prob)\n",
        "  fpr, tpr, _ = roc_curve(yarr, prob)\n",
        "  plt.plot(fpr, tpr, label='Logistic regressoin')\n",
        "  weights.append(auc)\n",
        "\n",
        "  model = pickle.load(open('./binarymodels/knn.sav', 'rb'))\n",
        "  # model = KNeighborsClassifier(30)\n",
        "  # model.fit(processed_X_train, y_train_simple)\n",
        "  # pickle.dump(model, open('./binarymodels/knn.sav', 'wb')) \n",
        "  prob = model.predict_proba(processed_X_test)[:,1]\n",
        "  auc = roc_auc_score(yarr, prob)\n",
        "  fpr, tpr, _ = roc_curve(yarr, prob)\n",
        "  plt.plot(fpr, tpr, label='kNN')\n",
        "  weights.append(auc)\n",
        "\n",
        "  model = pickle.load(open('./binarymodels/tree.sav', 'rb'))\n",
        "  # model = DecisionTreeClassifier(criterion='entropy', max_depth = 7)\n",
        "  # model.fit(processed_X_train, y_train_simple)\n",
        "  # pickle.dump(model, open('./binarymodels/tree.sav', 'wb'))\n",
        "  prob = model.predict_proba(processed_X_test)[:,1]\n",
        "  auc = roc_auc_score(yarr, prob)\n",
        "  fpr, tpr, _ = roc_curve(yarr, prob)\n",
        "  plt.plot(fpr, tpr, label='Decision tree')\n",
        "  weights.append(auc)\n",
        "\n",
        "  model = pickle.load(open('./binarymodels/forest.sav', 'rb'))\n",
        "  # model = RandomForestClassifier(criterion='entropy', max_depth = 16)\n",
        "  # model.fit(processed_X_train, y_train_simple)\n",
        "  # pickle.dump(model, open('./binarymodels/forest.sav', 'wb'))\n",
        "  prob = model.predict_proba(processed_X_test)[:,1]\n",
        "  auc = roc_auc_score(yarr, prob)\n",
        "  fpr, tpr, _ = roc_curve(yarr, prob)\n",
        "  plt.plot(fpr, tpr, label='Random forest')\n",
        "  weights.append(auc)\n",
        "\n",
        "  model = pickle.load(open('./binarymodels/nn.sav', 'rb'))\n",
        "  # model = MLPClassifier(solver='adam', hidden_layer_sizes=(120, 60, 20), early_stopping=True)\n",
        "  # model.fit(processed_X_train, y_train_simple)\n",
        "  # pickle.dump(model, open('./binarymodels/nn.sav', 'wb'))\n",
        "  prob = model.predict_proba(processed_X_test)[:,1]\n",
        "  auc = roc_auc_score(yarr, prob)\n",
        "  fpr, tpr, _ = roc_curve(yarr, prob)\n",
        "  plt.plot(fpr, tpr, label=\"Neural network\")\n",
        "  weights.append(auc)\n",
        "\n",
        "  np.save('./binarymodels/weights', weights)\n",
        "  fig = plt.gcf()\n",
        "  fig.set_size_inches(8, 6)\n",
        "  plt.title('Comparison of ROC curves for all models', fontsize=20)\n",
        "  plt.legend()\n",
        "  plt.xlabel('False positive rate')\n",
        "  plt.ylabel('True positive rate')\n",
        "  plt.show()\n",
        "  plt.savefig('ROC curves for all models')\n",
        "\n",
        "def load_binary_models():\n",
        "  models = [\n",
        "  pickle.load(open('./binarymodels/logreg.sav', 'rb')),\n",
        "  pickle.load(open('./binarymodels/knn.sav', 'rb')),\n",
        "  pickle.load(open('./binarymodels/tree.sav', 'rb')),\n",
        "  pickle.load(open('./binarymodels/forest.sav', 'rb')),\n",
        "  pickle.load(open('./binarymodels/nn.sav', 'rb'))\n",
        "  ]\n",
        "  weights = np.load('./binarymodels/weights.npy')\n",
        "  return models, weights\n",
        "\n",
        "def score_aggregate_model():\n",
        "  models, weights = load_binary_models()\n",
        "  total = len(y_test_simple)\n",
        "  yarr = y_test_simple.to_numpy()\n",
        "  count = 0\n",
        "  predictions = np.zeros(yarr.shape)\n",
        "  for m, model in enumerate(models):\n",
        "    predictions += weights[m] * model.predict(processed_X_test)\n",
        "  predictions = np.round(predictions / len(models), decimals = 0)\n",
        "  # for j in range(len(processed_X_test)):\n",
        "  #   if(j%50 == 0): print(j)\n",
        "  #   x = processed_X_test.iloc[j,:]\n",
        "  #   # print(j)\n",
        "  #   y = y_test_simple.iloc[j]\n",
        "  #   prediction = 0\n",
        "  #     weight = weights[m]\n",
        "  #     prediction += weight * model.predict(x.to_numpy().reshape(1,-1))[0]\n",
        "  #   prediction = np.round(prediction / len(models), decimals = 0)\n",
        "  #   # print(prediction)\n",
        "  #   if (prediction == y):\n",
        "  #     count += 1\n",
        "  print(\"Aggregate model achieved test set accuracy of: \" + str(np.count_nonzero(predictions == yarr) / total))\n",
        "\n",
        "def score_binary_models():\n",
        "  model_names = ['Logistic regression', 'kNN', 'Decision tree', 'Random forest', 'Deep neural network']\n",
        "  models, _ = load_binary_models()\n",
        "  for i in range(len(models)):\n",
        "    print(model_names[i] + ' achieved test set accuracy of: ' + str(models[i].score(processed_X_test, y_test_simple)))"
      ],
      "metadata": {
        "colab": {
          "base_uri": "https://localhost:8080/"
        },
        "id": "znzZBqG2e1H0",
        "outputId": "b89bd799-20c3-40b3-bd36-4cb4c5df3a5f"
      },
      "execution_count": 237,
      "outputs": [
        {
          "output_type": "stream",
          "name": "stdout",
          "text": [
            "0    10462\n",
            "1     9149\n",
            "Name: readmitted, dtype: int64\n"
          ]
        }
      ]
    },
    {
      "cell_type": "code",
      "source": [
        "#train and score aggregate model\n",
        "# train_binary_models()\n",
        "# score_aggregate_model()\n",
        "#score the binary models\n",
        "score_binary_models()"
      ],
      "metadata": {
        "colab": {
          "base_uri": "https://localhost:8080/"
        },
        "id": "JpqKjihyizeq",
        "outputId": "d16ce82c-075a-4288-d95b-2f3051dc8aa0"
      },
      "execution_count": 213,
      "outputs": [
        {
          "output_type": "stream",
          "name": "stdout",
          "text": [
            "Logistic regression achieved test set accuracy of: 0.6160828106674825\n",
            "kNN achieved test set accuracy of: 0.6051705675386263\n",
            "Decision tree achieved test set accuracy of: 0.59425832440977\n",
            "Random forest achieved test set accuracy of: 0.6197032277803274\n",
            "Deep neural network achieved test set accuracy of: 0.6270460455866605\n"
          ]
        }
      ]
    },
    {
      "cell_type": "code",
      "source": [
        "score_aggregate_model()"
      ],
      "metadata": {
        "colab": {
          "base_uri": "https://localhost:8080/"
        },
        "id": "vXlg80dn1BAC",
        "outputId": "3d389d9f-e2ef-4472-c008-c1e1ccf58bf1"
      },
      "execution_count": 214,
      "outputs": [
        {
          "output_type": "stream",
          "name": "stdout",
          "text": [
            "Aggregate model achieved test set accuracy of: 0.6180714904900311\n"
          ]
        }
      ]
    },
    {
      "cell_type": "markdown",
      "source": [
        "## References\n",
        "\n",
        "Potential metric for KNN on categorical labels:\n",
        "https://www.sciencedirect.com/science/article/pii/S0167947398000322\n",
        "\n",
        "Dataset info:\n",
        "https://www.hindawi.com/journals/bmri/2014/781670/tab1/\n",
        "\n",
        "Publication for diabetes prediction:\n",
        "https://journals.sagepub.com/doi/full/10.1177/0962280218810911?casa_token=e6MhgGr6j0QAAAAA%3Af64RUqqWFId_JVjfRTHvTJTsl7eOzE9-THKI5Eh8ZmXJeMjKPcsOj-ZNTlYgN0HIlKh4SDPe8qxm#_i13\n",
        "\n",
        "How random forest works:\n",
        "https://journals.sagepub.com/doi/full/10.1177/1536867X20909688\n",
        "\n",
        "More diabetes papers:\n",
        "https://ieeexplore.ieee.org/abstract/document/9076634\n",
        "\n",
        "https://www.sciencedirect.com/science/article/pii/S1877050920300557\n",
        "\n",
        "\n"
      ],
      "metadata": {
        "id": "wagMKXOu6jis"
      }
    }
  ]
}